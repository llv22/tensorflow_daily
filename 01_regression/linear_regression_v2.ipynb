{
 "cells": [
  {
   "cell_type": "code",
   "execution_count": 1,
   "metadata": {},
   "outputs": [],
   "source": [
    "import numpy as np\n",
    "import tensorflow as tf\n",
    "from sklearn.datasets import fetch_california_housing\n",
    "\n",
    "gpus = tf.config.experimental.list_physical_devices('GPU')\n",
    "if gpus:\n",
    "    try:\n",
    "        for gpu in gpus:\n",
    "            tf.config.experimental.set_memory_growth(gpu, True)\n",
    "    except RuntimeError as e:\n",
    "        print(e)\n",
    "\n",
    "# housing data import and add bias ahead of matrix\n",
    "housing = fetch_california_housing()\n",
    "m, n = housing.data.shape"
   ]
  },
  {
   "cell_type": "code",
   "execution_count": 2,
   "metadata": {},
   "outputs": [],
   "source": [
    "n_epochs = 10000\n",
    "learning_rate = 0.01"
   ]
  },
  {
   "cell_type": "code",
   "execution_count": 3,
   "metadata": {},
   "outputs": [],
   "source": [
    "scaled_housing_data = housing.data / housing.data.max(axis=0)\n",
    "scaled_housing_data_plus_bias = np.c_[np.ones((m, 1)), scaled_housing_data]\n",
    "#scaled_housing_data_plus_bias"
   ]
  },
  {
   "cell_type": "code",
   "execution_count": 4,
   "metadata": {},
   "outputs": [
    {
     "name": "stdout",
     "output_type": "stream",
     "text": [
      "Epoch 0, MSE = 80.15167236328125\n",
      "Epoch 1000, MSE = 1.17268705368042\n",
      "Epoch 2000, MSE = 0.9282985329627991\n",
      "Epoch 3000, MSE = 0.796195924282074\n",
      "Epoch 4000, MSE = 0.7246407866477966\n",
      "Epoch 5000, MSE = 0.6857902407646179\n",
      "Epoch 6000, MSE = 0.664614737033844\n",
      "Epoch 7000, MSE = 0.6529957056045532\n",
      "Epoch 8000, MSE = 0.6465469002723694\n",
      "Epoch 9000, MSE = 0.6428980231285095\n",
      "Epoch 10000, MSE = 0.6407684087753296\n",
      "best beta : <tf.Variable 'theta:0' shape=(9, 1) dtype=float32, numpy=\n",
      "array([[ 0.08040578],\n",
      "       [ 6.140441  ],\n",
      "       [ 0.8022814 ],\n",
      "       [-1.9742593 ],\n",
      "       [-0.5143442 ],\n",
      "       [-1.0119156 ],\n",
      "       [-2.1868894 ],\n",
      "       [-1.6233538 ],\n",
      "       [ 1.4138998 ]], dtype=float32)>\n",
      "CPU times: user 6.66 s, sys: 448 ms, total: 7.1 s\n",
      "Wall time: 7.11 s\n"
     ]
    }
   ],
   "source": [
    "%%time\n",
    "## check with https://github.com/tensorflow/tensorflow/issues/37144\n",
    "tf.autograph.set_verbosity(10, True)\n",
    "\n",
    "## tensorflow model\n",
    "X = tf.constant(scaled_housing_data_plus_bias, dtype=tf.float32, name=\"X\")\n",
    "y = tf.constant(housing.target.reshape(-1, 1), dtype=tf.float32, name=\"y\")\n",
    "\n",
    "## random support of theta\n",
    "theta = tf.Variable(tf.random.normal([n+1, 1], -1.0, 1.0), name=\"theta\")\n",
    "\n",
    "### tensorflow 2.0, refer to https://colab.research.google.com/github/tensorflow/docs/blob/master/site/en/guide/migrate.ipynb and https://www.tensorflow.org/guide/effective_tf2\n",
    "# https://colab.research.google.com/github/tensorflow/docs/blob/master/site/en/guide/function.ipynb#scrollTo=SbtT1-Wm70F2\n",
    "# https://www.tensorflow.org/guide/autodiff\n",
    "# converting\n",
    "# @tf.function\n",
    "# @tf.compat.v2.autograph.experimental.do_not_convert\n",
    "def train(theta):\n",
    "    y_pred = tf.matmul(X, theta, name=\"preditions\")\n",
    "    error = y_pred - y\n",
    "    mse = tf.reduce_mean(tf.square(error), name=\"mse\")\n",
    "    gradients = 2/m * tf.matmul(tf.transpose(X), error)\n",
    "    theta.assign(theta - learning_rate * gradients)\n",
    "    return mse\n",
    "\n",
    "for epoch in range(n_epochs+1):\n",
    "    mse = train(theta)\n",
    "    if epoch % 1000 == 0:\n",
    "        # https://stackoverflow.com/questions/58441514/why-is-tensorflow-2-much-slower-than-tensorflow-1\n",
    "        print(\"Epoch {}, MSE = {}\".format(epoch, mse))\n",
    "\n",
    "print(\"best beta : {}\".format(theta))"
   ]
  },
  {
   "cell_type": "code",
   "execution_count": null,
   "metadata": {},
   "outputs": [],
   "source": []
  }
 ],
 "metadata": {
  "kernelspec": {
   "display_name": "Python 3",
   "language": "python",
   "name": "python3"
  },
  "language_info": {
   "codemirror_mode": {
    "name": "ipython",
    "version": 3
   },
   "file_extension": ".py",
   "mimetype": "text/x-python",
   "name": "python",
   "nbconvert_exporter": "python",
   "pygments_lexer": "ipython3",
   "version": "3.8.2"
  }
 },
 "nbformat": 4,
 "nbformat_minor": 4
}
