{
 "cells": [
  {
   "cell_type": "code",
   "execution_count": 1,
   "metadata": {},
   "outputs": [],
   "source": [
    "import numpy as np\n",
    "import tensorflow as tf\n",
    "from sklearn.datasets import fetch_california_housing\n",
    "\n",
    "gpus = tf.config.experimental.list_physical_devices('GPU')\n",
    "if gpus:\n",
    "    try:\n",
    "        for gpu in gpus:\n",
    "            tf.config.experimental.set_memory_growth(gpu, True)\n",
    "    except RuntimeError as e:\n",
    "        print(e)\n",
    "\n",
    "# housing data import and add bias ahead of matrix\n",
    "housing = fetch_california_housing()\n",
    "m, n = housing.data.shape"
   ]
  },
  {
   "cell_type": "code",
   "execution_count": 2,
   "metadata": {},
   "outputs": [],
   "source": [
    "n_epochs = 100000\n",
    "learning_rate = 0.01"
   ]
  },
  {
   "cell_type": "code",
   "execution_count": 3,
   "metadata": {},
   "outputs": [],
   "source": [
    "scaled_housing_data = housing.data / housing.data.max(axis=0)\n",
    "scaled_housing_data_plus_bias = np.c_[np.ones((m, 1)), scaled_housing_data]\n",
    "#scaled_housing_data_plus_bias"
   ]
  },
  {
   "cell_type": "code",
   "execution_count": 4,
   "metadata": {},
   "outputs": [
    {
     "name": "stdout",
     "output_type": "stream",
     "text": [
      "Epoch 0, MSE = 57.39571762084961\n",
      "Epoch 10000, MSE = 0.6467878222465515\n",
      "Epoch 20000, MSE = 0.63975989818573\n",
      "Epoch 30000, MSE = 0.6366565823554993\n",
      "Epoch 40000, MSE = 0.6344910264015198\n",
      "Epoch 50000, MSE = 0.6328314542770386\n",
      "Epoch 60000, MSE = 0.6314508318901062\n",
      "Epoch 70000, MSE = 0.630227267742157\n",
      "Epoch 80000, MSE = 0.6290949583053589\n",
      "Epoch 90000, MSE = 0.6280180811882019\n",
      "Epoch 100000, MSE = 0.6269778609275818\n",
      "best beta : <tf.Variable 'theta:0' shape=(9, 1) dtype=float32, numpy=\n",
      "array([[-1.0595812 ],\n",
      "       [ 6.370453  ],\n",
      "       [ 0.88735497],\n",
      "       [-0.45910722],\n",
      "       [ 0.01300614],\n",
      "       [ 0.47224718],\n",
      "       [-2.1817088 ],\n",
      "       [-3.208448  ],\n",
      "       [ 3.5613496 ]], dtype=float32)>\n"
     ]
    }
   ],
   "source": [
    "## tensorflow model\n",
    "X = tf.constant(scaled_housing_data_plus_bias, dtype=tf.float32, name=\"X\")\n",
    "y = tf.constant(housing.target.reshape(-1, 1), dtype=tf.float32, name=\"y\")\n",
    "\n",
    "## random support of theta\n",
    "theta = tf.Variable(tf.random.normal([n+1, 1], -1.0, 1.0), name=\"theta\")\n",
    "\n",
    "### tensorflow 2.0, refer to https://colab.research.google.com/github/tensorflow/docs/blob/master/site/en/guide/migrate.ipynb and https://www.tensorflow.org/guide/effective_tf2\n",
    "@tf.function\n",
    "def train(theta, X, y):\n",
    "    y_pred = tf.matmul(X, theta, name=\"preditions\")\n",
    "    error = y_pred - y\n",
    "    mse = tf.reduce_mean(tf.square(error), name=\"mse\")\n",
    "    gradients = 2/m * tf.matmul(tf.transpose(X), error)\n",
    "    theta.assign(theta - learning_rate * gradients)\n",
    "    return mse\n",
    "\n",
    "for epoch in range(n_epochs+1):\n",
    "    mse = train(theta, X, y)\n",
    "    if epoch % 10000 == 0:\n",
    "        print(\"Epoch {}, MSE = {}\".format(epoch, mse.numpy()))\n",
    "\n",
    "print(\"best beta : {}\".format(theta))"
   ]
  },
  {
   "cell_type": "code",
   "execution_count": null,
   "metadata": {},
   "outputs": [],
   "source": []
  }
 ],
 "metadata": {
  "kernelspec": {
   "display_name": "Python 3",
   "language": "python",
   "name": "python3"
  },
  "language_info": {
   "codemirror_mode": {
    "name": "ipython",
    "version": 3
   },
   "file_extension": ".py",
   "mimetype": "text/x-python",
   "name": "python",
   "nbconvert_exporter": "python",
   "pygments_lexer": "ipython3",
   "version": "3.8.2"
  }
 },
 "nbformat": 4,
 "nbformat_minor": 4
}
