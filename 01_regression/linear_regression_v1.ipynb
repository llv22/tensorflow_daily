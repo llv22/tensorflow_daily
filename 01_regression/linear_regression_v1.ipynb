{
 "cells": [
  {
   "cell_type": "code",
   "execution_count": 1,
   "metadata": {},
   "outputs": [],
   "source": [
    "import numpy as np\n",
    "import tensorflow as tf\n",
    "from sklearn.datasets import fetch_california_housing\n",
    "\n",
    "gpus = tf.config.experimental.list_physical_devices('GPU')\n",
    "if gpus:\n",
    "    try:\n",
    "        for gpu in gpus:\n",
    "            tf.config.experimental.set_memory_growth(gpu, True)\n",
    "    except RuntimeError as e:\n",
    "        print(e)\n",
    "\n",
    "# housing data import and add bias ahead of matrix\n",
    "housing = fetch_california_housing()\n",
    "m, n = housing.data.shape"
   ]
  },
  {
   "cell_type": "code",
   "execution_count": 2,
   "metadata": {},
   "outputs": [],
   "source": [
    "n_epochs = 10000\n",
    "learning_rate = 0.01"
   ]
  },
  {
   "cell_type": "code",
   "execution_count": 3,
   "metadata": {},
   "outputs": [],
   "source": [
    "scaled_housing_data = housing.data / housing.data.max(axis=0)\n",
    "scaled_housing_data_plus_bias = np.c_[np.ones((m, 1)), scaled_housing_data]\n",
    "#scaled_housing_data_plus_bias"
   ]
  },
  {
   "cell_type": "code",
   "execution_count": 4,
   "metadata": {},
   "outputs": [
    {
     "name": "stdout",
     "output_type": "stream",
     "text": [
      "WARNING:tensorflow:From /home/dluser1/miniconda3/lib/python3.8/site-packages/tensorflow/python/compat/v2_compat.py:96: disable_resource_variables (from tensorflow.python.ops.variable_scope) is deprecated and will be removed in a future version.\n",
      "Instructions for updating:\n",
      "non-resource variables are not supported in the long term\n",
      "Epoch 0, MSE = 31.44782066345215\n",
      "Epoch 1000, MSE = 0.9920492768287659\n",
      "Epoch 2000, MSE = 0.8349885940551758\n",
      "Epoch 3000, MSE = 0.7504395246505737\n",
      "Epoch 4000, MSE = 0.7044603824615479\n",
      "Epoch 5000, MSE = 0.6792659163475037\n",
      "Epoch 6000, MSE = 0.6653107404708862\n",
      "Epoch 7000, MSE = 0.657444179058075\n",
      "Epoch 8000, MSE = 0.6528835892677307\n",
      "Epoch 9000, MSE = 0.6501245498657227\n",
      "best beta : [[ 0.30830124]\n",
      " [ 6.2135396 ]\n",
      " [ 0.8407393 ]\n",
      " [-0.8040251 ]\n",
      " [ 0.16767122]\n",
      " [-0.92598575]\n",
      " [-0.3661116 ]\n",
      " [-0.74829674]\n",
      " [ 0.3750848 ]]\n",
      "CPU times: user 6.87 s, sys: 1.45 s, total: 8.32 s\n",
      "Wall time: 5.19 s\n"
     ]
    }
   ],
   "source": [
    "%%time\n",
    "tf.compat.v1.disable_v2_behavior()\n",
    "## tensorflow model\n",
    "X = tf.constant(scaled_housing_data_plus_bias, dtype=tf.float32, name=\"X\")\n",
    "y = tf.constant(housing.target.reshape(-1, 1), dtype=tf.float32, name=\"y\")\n",
    "\n",
    "## random support of theta\n",
    "theta = tf.Variable(tf.random.normal([n+1, 1], -1.0, 1.0), name=\"theta\")\n",
    "\n",
    "## random support of theta\n",
    "y_pred = tf.matmul(X, theta, name=\"preditions\")\n",
    "error = y_pred - y\n",
    "mse = tf.reduce_mean(tf.square(error), name=\"mse\")\n",
    "gradients = 2/m * tf.matmul(tf.transpose(X), error)\n",
    "\n",
    "training_op = tf.compat.v1.assign(theta, theta - learning_rate * gradients)\n",
    "\n",
    "init = tf.compat.v1.global_variables_initializer()\n",
    "\n",
    "with tf.compat.v1.Session() as sess:\n",
    "    sess.run(init)\n",
    "    \n",
    "    for epoch in range(n_epochs):\n",
    "        if epoch % 1000 == 0:\n",
    "            print(\"Epoch {}, MSE = {}\".format(epoch, mse.eval()))\n",
    "        sess.run(training_op)\n",
    "        \n",
    "    best_beta = theta.eval()\n",
    "    print(\"best beta : {}\".format(best_beta))"
   ]
  },
  {
   "cell_type": "code",
   "execution_count": null,
   "metadata": {},
   "outputs": [],
   "source": []
  }
 ],
 "metadata": {
  "kernelspec": {
   "display_name": "Python 3",
   "language": "python",
   "name": "python3"
  },
  "language_info": {
   "codemirror_mode": {
    "name": "ipython",
    "version": 3
   },
   "file_extension": ".py",
   "mimetype": "text/x-python",
   "name": "python",
   "nbconvert_exporter": "python",
   "pygments_lexer": "ipython3",
   "version": "3.8.2"
  }
 },
 "nbformat": 4,
 "nbformat_minor": 4
}
