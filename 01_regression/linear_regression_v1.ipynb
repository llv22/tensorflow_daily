{
 "cells": [
  {
   "cell_type": "code",
   "execution_count": 1,
   "metadata": {},
   "outputs": [],
   "source": [
    "import numpy as np\n",
    "import tensorflow as tf\n",
    "from sklearn.datasets import fetch_california_housing\n",
    "\n",
    "gpus = tf.config.experimental.list_physical_devices('GPU')\n",
    "if gpus:\n",
    "    try:\n",
    "        for gpu in gpus:\n",
    "            tf.config.experimental.set_memory_growth(gpu, True)\n",
    "    except RuntimeError as e:\n",
    "        print(e)\n",
    "\n",
    "# housing data import and add bias ahead of matrix\n",
    "housing = fetch_california_housing()\n",
    "m, n = housing.data.shape"
   ]
  },
  {
   "cell_type": "code",
   "execution_count": 2,
   "metadata": {},
   "outputs": [],
   "source": [
    "n_epochs = 10000\n",
    "learning_rate = 0.01"
   ]
  },
  {
   "cell_type": "code",
   "execution_count": 3,
   "metadata": {},
   "outputs": [],
   "source": [
    "scaled_housing_data = housing.data / housing.data.max(axis=0)\n",
    "scaled_housing_data_plus_bias = np.c_[np.ones((m, 1)), scaled_housing_data]\n",
    "#scaled_housing_data_plus_bias"
   ]
  },
  {
   "cell_type": "code",
   "execution_count": 4,
   "metadata": {},
   "outputs": [
    {
     "name": "stdout",
     "output_type": "stream",
     "text": [
      "WARNING:tensorflow:From /home/dluser1/miniconda3/lib/python3.8/site-packages/tensorflow/python/compat/v2_compat.py:96: disable_resource_variables (from tensorflow.python.ops.variable_scope) is deprecated and will be removed in a future version.\n",
      "Instructions for updating:\n",
      "non-resource variables are not supported in the long term\n",
      "Epoch 0, MSE = 30.820446014404297\n",
      "Epoch 1000, MSE = 0.9694516658782959\n",
      "Epoch 2000, MSE = 0.8175520896911621\n",
      "Epoch 3000, MSE = 0.7355639934539795\n",
      "Epoch 4000, MSE = 0.6912153959274292\n",
      "Epoch 5000, MSE = 0.6671860218048096\n",
      "Epoch 6000, MSE = 0.6541329622268677\n",
      "Epoch 7000, MSE = 0.6470103859901428\n",
      "Epoch 8000, MSE = 0.6430922150611877\n",
      "Epoch 9000, MSE = 0.6409059762954712\n",
      "best beta : [[ 1.3219917 ]\n",
      " [ 6.0944114 ]\n",
      " [ 0.85237694]\n",
      " [-0.24804655]\n",
      " [ 0.51530284]\n",
      " [-0.20016727]\n",
      " [-1.5497631 ]\n",
      " [-2.6561642 ]\n",
      " [ 0.92432386]]\n",
      "CPU times: user 6.72 s, sys: 1.34 s, total: 8.07 s\n",
      "Wall time: 4.8 s\n"
     ]
    }
   ],
   "source": [
    "%%time\n",
    "tf.compat.v1.disable_v2_behavior()\n",
    "## tensorflow model\n",
    "X = tf.constant(scaled_housing_data_plus_bias, dtype=tf.float32, name=\"X\")\n",
    "y = tf.constant(housing.target.reshape(-1, 1), dtype=tf.float32, name=\"y\")\n",
    "\n",
    "## random support of theta\n",
    "theta = tf.Variable(tf.random.normal([n+1, 1], -1.0, 1.0), name=\"theta\")\n",
    "\n",
    "## random support of theta\n",
    "y_pred = tf.matmul(X, theta, name=\"preditions\")\n",
    "error = y_pred - y\n",
    "mse = tf.reduce_mean(tf.square(error), name=\"mse\")\n",
    "gradients = 2/m * tf.matmul(tf.transpose(X), error)\n",
    "\n",
    "training_op = tf.compat.v1.assign(theta, theta - learning_rate * gradients)\n",
    "\n",
    "init = tf.compat.v1.global_variables_initializer()\n",
    "\n",
    "with tf.compat.v1.Session() as sess:\n",
    "    sess.run(init)\n",
    "    \n",
    "    for epoch in range(n_epochs):\n",
    "        if epoch % 1000 == 0:\n",
    "            print(\"Epoch {}, MSE = {}\".format(epoch, mse.eval()))\n",
    "        sess.run(training_op)\n",
    "        \n",
    "    best_beta = theta.eval()\n",
    "    print(\"best beta : {}\".format(best_beta))"
   ]
  },
  {
   "cell_type": "code",
   "execution_count": null,
   "metadata": {},
   "outputs": [],
   "source": []
  }
 ],
 "metadata": {
  "kernelspec": {
   "display_name": "Python 3",
   "language": "python",
   "name": "python3"
  },
  "language_info": {
   "codemirror_mode": {
    "name": "ipython",
    "version": 3
   },
   "file_extension": ".py",
   "mimetype": "text/x-python",
   "name": "python",
   "nbconvert_exporter": "python",
   "pygments_lexer": "ipython3",
   "version": "3.8.2"
  }
 },
 "nbformat": 4,
 "nbformat_minor": 4
}
