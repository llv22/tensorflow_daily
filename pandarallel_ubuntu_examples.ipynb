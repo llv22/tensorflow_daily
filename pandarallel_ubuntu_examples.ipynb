{
 "cells": [
  {
   "cell_type": "code",
   "execution_count": 1,
   "metadata": {
    "scrolled": true
   },
   "outputs": [],
   "source": [
    "%load_ext autoreload\n",
    "%autoreload 2\n",
    "import pandas as pd\n",
    "import time\n",
    "from pandarallel import pandarallel\n",
    "import math\n",
    "import numpy as np"
   ]
  },
  {
   "cell_type": "markdown",
   "metadata": {},
   "source": [
    "# Initialize pandarallel"
   ]
  },
  {
   "cell_type": "code",
   "execution_count": 2,
   "metadata": {},
   "outputs": [
    {
     "name": "stdout",
     "output_type": "stream",
     "text": [
      "INFO: Pandarallel will run on 32 workers.\n",
      "INFO: Pandarallel will use Memory file system to transfer data between the main process and workers.\n"
     ]
    }
   ],
   "source": [
    "pandarallel.initialize()"
   ]
  },
  {
   "cell_type": "markdown",
   "metadata": {},
   "source": [
    "# DataFrame.apply"
   ]
  },
  {
   "cell_type": "code",
   "execution_count": 3,
   "metadata": {
    "scrolled": true
   },
   "outputs": [],
   "source": [
    "df_size = int(5e6)\n",
    "df = pd.DataFrame(dict(a=np.random.randint(1, 8, df_size),\n",
    "                       b=np.random.rand(df_size)))"
   ]
  },
  {
   "cell_type": "code",
   "execution_count": 4,
   "metadata": {
    "scrolled": true
   },
   "outputs": [],
   "source": [
    "def func(x):\n",
    "    return math.sin(x.a**2) + math.sin(x.b**2)"
   ]
  },
  {
   "cell_type": "code",
   "execution_count": 5,
   "metadata": {
    "scrolled": true
   },
   "outputs": [
    {
     "name": "stdout",
     "output_type": "stream",
     "text": [
      "CPU times: user 1min 19s, sys: 1.6 s, total: 1min 21s\n",
      "Wall time: 1min 21s\n"
     ]
    }
   ],
   "source": [
    "%%time\n",
    "res = df.apply(func, axis=1)"
   ]
  },
  {
   "cell_type": "code",
   "execution_count": 6,
   "metadata": {
    "scrolled": true
   },
   "outputs": [
    {
     "name": "stdout",
     "output_type": "stream",
     "text": [
      "CPU times: user 128 ms, sys: 252 ms, total: 380 ms\n",
      "Wall time: 7.67 s\n"
     ]
    }
   ],
   "source": [
    "%%time\n",
    "res_parallel = df.parallel_apply(func, axis=1)"
   ]
  },
  {
   "cell_type": "code",
   "execution_count": 10,
   "metadata": {
    "scrolled": true
   },
   "outputs": [
    {
     "data": {
      "text/plain": [
       "True"
      ]
     },
     "execution_count": 10,
     "metadata": {},
     "output_type": "execute_result"
    }
   ],
   "source": [
    "res.equals(res_parallel)"
   ]
  },
  {
   "cell_type": "markdown",
   "metadata": {},
   "source": [
    "# DataFrame.applymap"
   ]
  },
  {
   "cell_type": "code",
   "execution_count": 11,
   "metadata": {},
   "outputs": [],
   "source": [
    "df_size = int(1e7)\n",
    "df = pd.DataFrame(dict(a=np.random.randint(1, 8, df_size),\n",
    "                       b=np.random.rand(df_size)))"
   ]
  },
  {
   "cell_type": "code",
   "execution_count": 12,
   "metadata": {},
   "outputs": [],
   "source": [
    "def func(x):\n",
    "    return math.sin(x**2) - math.cos(x**2)"
   ]
  },
  {
   "cell_type": "code",
   "execution_count": 13,
   "metadata": {},
   "outputs": [
    {
     "name": "stdout",
     "output_type": "stream",
     "text": [
      "CPU times: user 13 s, sys: 1.35 s, total: 14.4 s\n",
      "Wall time: 14.4 s\n"
     ]
    }
   ],
   "source": [
    "%%time\n",
    "res = df.applymap(func)"
   ]
  },
  {
   "cell_type": "code",
   "execution_count": 14,
   "metadata": {},
   "outputs": [
    {
     "name": "stdout",
     "output_type": "stream",
     "text": [
      "CPU times: user 128 ms, sys: 560 ms, total: 688 ms\n",
      "Wall time: 1.81 s\n"
     ]
    }
   ],
   "source": [
    "%%time\n",
    "res_parallel = df.parallel_applymap(func)"
   ]
  },
  {
   "cell_type": "code",
   "execution_count": 15,
   "metadata": {},
   "outputs": [
    {
     "data": {
      "text/plain": [
       "True"
      ]
     },
     "execution_count": 15,
     "metadata": {},
     "output_type": "execute_result"
    }
   ],
   "source": [
    "res.equals(res_parallel)"
   ]
  },
  {
   "cell_type": "markdown",
   "metadata": {},
   "source": [
    "# DataFrame.groupby.apply"
   ]
  },
  {
   "cell_type": "code",
   "execution_count": 16,
   "metadata": {
    "scrolled": true
   },
   "outputs": [],
   "source": [
    "df_size = int(3e7)\n",
    "df = pd.DataFrame(dict(a=np.random.randint(1, 1000, df_size),\n",
    "                       b=np.random.rand(df_size)))"
   ]
  },
  {
   "cell_type": "code",
   "execution_count": 17,
   "metadata": {
    "scrolled": true
   },
   "outputs": [],
   "source": [
    "def func(df):\n",
    "    dum = 0\n",
    "    for item in df.b:\n",
    "        dum += math.log10(math.sqrt(math.exp(item**2)))\n",
    "        \n",
    "    return dum / len(df.b)"
   ]
  },
  {
   "cell_type": "code",
   "execution_count": 18,
   "metadata": {
    "scrolled": true
   },
   "outputs": [
    {
     "name": "stdout",
     "output_type": "stream",
     "text": [
      "CPU times: user 16.8 s, sys: 4.6 s, total: 21.4 s\n",
      "Wall time: 21.4 s\n"
     ]
    }
   ],
   "source": [
    "%%time\n",
    "res = df.groupby(\"a\").apply(func)"
   ]
  },
  {
   "cell_type": "code",
   "execution_count": 19,
   "metadata": {
    "scrolled": true
   },
   "outputs": [
    {
     "name": "stdout",
     "output_type": "stream",
     "text": [
      "CPU times: user 4.84 s, sys: 6.18 s, total: 11 s\n",
      "Wall time: 12.3 s\n"
     ]
    }
   ],
   "source": [
    "%%time\n",
    "res_parallel = df.groupby(\"a\").parallel_apply(func)"
   ]
  },
  {
   "cell_type": "code",
   "execution_count": 20,
   "metadata": {
    "scrolled": true
   },
   "outputs": [
    {
     "data": {
      "text/plain": [
       "True"
      ]
     },
     "execution_count": 20,
     "metadata": {},
     "output_type": "execute_result"
    }
   ],
   "source": [
    "res.equals(res_parallel)"
   ]
  },
  {
   "cell_type": "markdown",
   "metadata": {},
   "source": [
    "# DataFrame.groupby.rolling.apply"
   ]
  },
  {
   "cell_type": "code",
   "execution_count": 21,
   "metadata": {},
   "outputs": [],
   "source": [
    "df_size = int(1e6)\n",
    "df = pd.DataFrame(dict(a=np.random.randint(1, 300, df_size),\n",
    "                       b=np.random.rand(df_size)))"
   ]
  },
  {
   "cell_type": "code",
   "execution_count": 22,
   "metadata": {},
   "outputs": [],
   "source": [
    "def func(x):\n",
    "    return x.iloc[0] + x.iloc[1] ** 2 + x.iloc[2] ** 3 + x.iloc[3] ** 4"
   ]
  },
  {
   "cell_type": "code",
   "execution_count": 23,
   "metadata": {},
   "outputs": [
    {
     "name": "stdout",
     "output_type": "stream",
     "text": [
      "CPU times: user 46.7 s, sys: 88 ms, total: 46.8 s\n",
      "Wall time: 46.8 s\n"
     ]
    }
   ],
   "source": [
    "%%time\n",
    "res = df.groupby('a').b.rolling(4).apply(func, raw=False)"
   ]
  },
  {
   "cell_type": "code",
   "execution_count": 24,
   "metadata": {},
   "outputs": [
    {
     "name": "stdout",
     "output_type": "stream",
     "text": [
      "CPU times: user 720 ms, sys: 356 ms, total: 1.08 s\n",
      "Wall time: 4.99 s\n"
     ]
    }
   ],
   "source": [
    "%%time\n",
    "res_parallel = df.groupby('a').b.rolling(4).parallel_apply(func, raw=False)"
   ]
  },
  {
   "cell_type": "code",
   "execution_count": 25,
   "metadata": {},
   "outputs": [
    {
     "data": {
      "text/plain": [
       "True"
      ]
     },
     "execution_count": 25,
     "metadata": {},
     "output_type": "execute_result"
    }
   ],
   "source": [
    "res.equals(res_parallel)"
   ]
  },
  {
   "cell_type": "markdown",
   "metadata": {},
   "source": [
    "# DataFrame.groupby.expanding.apply"
   ]
  },
  {
   "cell_type": "code",
   "execution_count": 26,
   "metadata": {},
   "outputs": [],
   "source": [
    "df_size = int(1e6)\n",
    "df = pd.DataFrame(dict(a=np.random.randint(1, 300, df_size),\n",
    "                       b=np.random.rand(df_size)))"
   ]
  },
  {
   "cell_type": "code",
   "execution_count": 27,
   "metadata": {},
   "outputs": [],
   "source": [
    "def func(x):\n",
    "    return x.iloc[0] + x.iloc[1] ** 2 + x.iloc[2] ** 3 + x.iloc[3] ** 4"
   ]
  },
  {
   "cell_type": "code",
   "execution_count": 28,
   "metadata": {},
   "outputs": [
    {
     "name": "stdout",
     "output_type": "stream",
     "text": [
      "CPU times: user 45.9 s, sys: 64 ms, total: 45.9 s\n",
      "Wall time: 45.9 s\n"
     ]
    }
   ],
   "source": [
    "%%time\n",
    "res = df.groupby('a').b.expanding(4).apply(func, raw=False)"
   ]
  },
  {
   "cell_type": "code",
   "execution_count": 29,
   "metadata": {},
   "outputs": [
    {
     "name": "stdout",
     "output_type": "stream",
     "text": [
      "CPU times: user 680 ms, sys: 332 ms, total: 1.01 s\n",
      "Wall time: 5.02 s\n"
     ]
    }
   ],
   "source": [
    "%%time\n",
    "res_parallel = df.groupby('a').b.expanding(4).parallel_apply(func, raw=False)"
   ]
  },
  {
   "cell_type": "markdown",
   "metadata": {},
   "source": [
    "# Series.map"
   ]
  },
  {
   "cell_type": "code",
   "execution_count": 30,
   "metadata": {
    "scrolled": true
   },
   "outputs": [],
   "source": [
    "df_size = int(5e7)\n",
    "df = pd.DataFrame(dict(a=np.random.rand(df_size) + 1))"
   ]
  },
  {
   "cell_type": "code",
   "execution_count": 31,
   "metadata": {
    "scrolled": true
   },
   "outputs": [],
   "source": [
    "def func(x):\n",
    "    return math.log10(math.sqrt(math.exp(x**2)))"
   ]
  },
  {
   "cell_type": "code",
   "execution_count": 32,
   "metadata": {
    "scrolled": true
   },
   "outputs": [
    {
     "name": "stdout",
     "output_type": "stream",
     "text": [
      "CPU times: user 26.4 s, sys: 5.49 s, total: 31.9 s\n",
      "Wall time: 31.8 s\n"
     ]
    }
   ],
   "source": [
    "%%time\n",
    "res = df.a.map(func)"
   ]
  },
  {
   "cell_type": "code",
   "execution_count": 33,
   "metadata": {
    "scrolled": true
   },
   "outputs": [
    {
     "name": "stdout",
     "output_type": "stream",
     "text": [
      "CPU times: user 236 ms, sys: 1.84 s, total: 2.08 s\n",
      "Wall time: 4.63 s\n"
     ]
    }
   ],
   "source": [
    "%%time\n",
    "res_parallel = df.a.parallel_map(func)"
   ]
  },
  {
   "cell_type": "code",
   "execution_count": 34,
   "metadata": {
    "scrolled": true
   },
   "outputs": [
    {
     "data": {
      "text/plain": [
       "True"
      ]
     },
     "execution_count": 34,
     "metadata": {},
     "output_type": "execute_result"
    }
   ],
   "source": [
    "res.equals(res_parallel)"
   ]
  },
  {
   "cell_type": "markdown",
   "metadata": {},
   "source": [
    "# Series.apply"
   ]
  },
  {
   "cell_type": "code",
   "execution_count": 35,
   "metadata": {},
   "outputs": [],
   "source": [
    "df_size = int(3.5e7)\n",
    "df = pd.DataFrame(dict(a=np.random.rand(df_size) + 1))"
   ]
  },
  {
   "cell_type": "code",
   "execution_count": 36,
   "metadata": {},
   "outputs": [],
   "source": [
    "def func(x, power, bias=0):\n",
    "    return math.log10(math.sqrt(math.exp(x**power))) + bias"
   ]
  },
  {
   "cell_type": "code",
   "execution_count": 37,
   "metadata": {},
   "outputs": [
    {
     "name": "stdout",
     "output_type": "stream",
     "text": [
      "CPU times: user 28.3 s, sys: 2.68 s, total: 31 s\n",
      "Wall time: 31 s\n"
     ]
    }
   ],
   "source": [
    "%%time\n",
    "res = df.a.apply(func, args=(2,), bias=3)"
   ]
  },
  {
   "cell_type": "code",
   "execution_count": 38,
   "metadata": {},
   "outputs": [
    {
     "name": "stdout",
     "output_type": "stream",
     "text": [
      "CPU times: user 212 ms, sys: 952 ms, total: 1.16 s\n",
      "Wall time: 4 s\n"
     ]
    }
   ],
   "source": [
    "%%time\n",
    "res_parallel = df.a.parallel_apply(func, args=(2,), bias=3)"
   ]
  },
  {
   "cell_type": "code",
   "execution_count": 39,
   "metadata": {},
   "outputs": [
    {
     "data": {
      "text/plain": [
       "True"
      ]
     },
     "execution_count": 39,
     "metadata": {},
     "output_type": "execute_result"
    }
   ],
   "source": [
    "res.equals(res_parallel)"
   ]
  },
  {
   "cell_type": "markdown",
   "metadata": {},
   "source": [
    "# Series.rolling.apply"
   ]
  },
  {
   "cell_type": "code",
   "execution_count": 40,
   "metadata": {},
   "outputs": [],
   "source": [
    "df_size = int(1e6)\n",
    "df = pd.DataFrame(dict(a=np.random.randint(1, 8, df_size),\n",
    "                       b=list(range(df_size))))"
   ]
  },
  {
   "cell_type": "code",
   "execution_count": 41,
   "metadata": {},
   "outputs": [],
   "source": [
    "def func(x):\n",
    "    return x.iloc[0] + x.iloc[1] ** 2 + x.iloc[2] ** 3 + x.iloc[3] ** 4"
   ]
  },
  {
   "cell_type": "code",
   "execution_count": 42,
   "metadata": {},
   "outputs": [
    {
     "name": "stdout",
     "output_type": "stream",
     "text": [
      "CPU times: user 44.4 s, sys: 28 ms, total: 44.4 s\n",
      "Wall time: 44.4 s\n"
     ]
    }
   ],
   "source": [
    "%%time\n",
    "res = df.b.rolling(4).apply(func, raw=False)"
   ]
  },
  {
   "cell_type": "code",
   "execution_count": 45,
   "metadata": {},
   "outputs": [
    {
     "name": "stdout",
     "output_type": "stream",
     "text": [
      "CPU times: user 76 ms, sys: 152 ms, total: 228 ms\n",
      "Wall time: 3.94 s\n"
     ]
    }
   ],
   "source": [
    "%%time\n",
    "res_parallel = df.b.rolling(4).parallel_apply(func, raw=False)"
   ]
  },
  {
   "cell_type": "code",
   "execution_count": 46,
   "metadata": {},
   "outputs": [
    {
     "data": {
      "text/plain": [
       "True"
      ]
     },
     "execution_count": 46,
     "metadata": {},
     "output_type": "execute_result"
    }
   ],
   "source": [
    "res.equals(res_parallel)"
   ]
  },
  {
   "cell_type": "markdown",
   "metadata": {},
   "source": [
    "# CountDownLatch"
   ]
  },
  {
   "cell_type": "code",
   "execution_count": 59,
   "metadata": {},
   "outputs": [],
   "source": [
    "import threading\n",
    "\n",
    "def process(*a):\n",
    "    \"\"\"\n",
    "    input parameters with dynamic length\n",
    "    \"\"\"\n",
    "    print(\"process in thread {} - taskId {}\".format(a[0], a[1]))\n",
    "\n",
    "# https://stackoverflow.com/questions/10236947/does-python-have-a-similar-control-mechanism-to-javas-countdownlatch\n",
    "class CountDownLatch(object):\n",
    "    def __init__(self, count=1):\n",
    "        self.count = count\n",
    "        self.lock = threading.Condition()\n",
    "\n",
    "    def count_down(self, *a):\n",
    "        self.lock.acquire()\n",
    "        self.count -= 1\n",
    "        process(*a)\n",
    "        if self.count <= 0:\n",
    "            self.lock.notifyAll()\n",
    "        self.lock.release()\n",
    "\n",
    "    def wait(self):\n",
    "        self.lock.acquire()\n",
    "        while self.count > 0:\n",
    "            self.lock.wait()\n",
    "        self.lock.release()"
   ]
  },
  {
   "cell_type": "code",
   "execution_count": 61,
   "metadata": {},
   "outputs": [
    {
     "name": "stdout",
     "output_type": "stream",
     "text": [
      "start\n",
      "process in thread 139809686427392 - taskId 0\n",
      "process in thread 139809686427392 - taskId 1\n",
      "process in thread 139809716668160 - taskId 2\n",
      "process in thread 139809716668160 - taskId 5\n",
      "process in thread 139809699882752 - taskId 4\n",
      "process in thread 139809686427392 - taskId 3\n",
      "process in thread 139809686427392 - taskId 11\n",
      "process in thread 139809678034688 - taskId 7\n",
      "process in thread 139809699882752 - taskId 8\n",
      "process in thread 139809708275456 - taskId 9\n",
      "process in thread 139809708275456 - taskId 18\n",
      "process in thread 139809716668160 - taskId 6\n",
      "process in thread 139809716668160 - taskId 22\n",
      "process in thread 139809678034688 - taskId 13\n",
      "process in thread 139809661249280 - taskId 14\n",
      "process in thread 139809652856576 - taskId 15\n",
      "process in thread 139809699882752 - taskId 16\n",
      "process in thread 139809699882752 - taskId 35\n",
      "process in thread 139809669641984 - taskId 10\n",
      "process in thread 139809708275456 - taskId 19\n",
      "process in thread 139809708275456 - taskId 40\n",
      "process in thread 139809708275456 - taskId 41\n",
      "process in thread 139809708275456 - taskId 42\n",
      "process in thread 139809708275456 - taskId 45\n",
      "process in thread 139809708275456 - taskId 46\n",
      "process in thread 139809708275456 - taskId 47\n",
      "process in thread 139809597818624 - taskId 26\n",
      "process in thread 139809678034688 - taskId 27\n",
      "process in thread 139809678034688 - taskId 55\n",
      "process in thread 139809678034688 - taskId 56\n",
      "process in thread 139809581033216 - taskId 30\n",
      "process in thread 139809581033216 - taskId 59\n",
      "process in thread 139809652856576 - taskId 32\n",
      "process in thread 139809652856576 - taskId 63\n",
      "process in thread 139809555855104 - taskId 34\n",
      "process in thread 139809644463872 - taskId 17\n",
      "process in thread 139809699882752 - taskId 36\n",
      "process in thread 139809669641984 - taskId 37\n",
      "process in thread 139809669641984 - taskId 69\n",
      "process in thread 139809669641984 - taskId 70\n",
      "process in thread 139809669641984 - taskId 71\n",
      "process in thread 139809669641984 - taskId 72\n",
      "process in thread 139809669641984 - taskId 73\n",
      "process in thread 139809669641984 - taskId 74\n",
      "process in thread 139809669641984 - taskId 75\n",
      "process in thread 139809669641984 - taskId 76\n",
      "process in thread 139809669641984 - taskId 77\n",
      "process in thread 139809669641984 - taskId 78\n",
      "process in thread 139809669641984 - taskId 79\n",
      "process in thread 139809305655040 - taskId 49\n",
      "process in thread 139809597818624 - taskId 50\n",
      "process in thread 139809297262336 - taskId 51\n",
      "process in thread 139809288869632 - taskId 52\n",
      "process in thread 139809288869632 - taskId 84\n",
      "process in thread 139809272084224 - taskId 54\n",
      "process in thread 139809272084224 - taskId 86\n",
      "process in thread 139809272084224 - taskId 87\n",
      "process in thread 139809678034688 - taskId 57\n",
      "process in thread 139809263691520 - taskId 58\n",
      "process in thread 139809572640512 - taskId 31\n",
      "process in thread 139809572640512 - taskId 91\n",
      "process in thread 139809572640512 - taskId 92\n",
      "process in thread 139809572640512 - taskId 93\n",
      "process in thread 139809246906112 - taskId 62\n",
      "process in thread 139809652856576 - taskId 64\n",
      "process in thread 139809652856576 - taskId 96\n",
      "process in thread 139809652856576 - taskId 97\n",
      "process in thread 139809238513408 - taskId 66\n",
      "process in thread 139809238513408 - taskId 99\n",
      "process in thread 139809541142272 - taskId 38\n",
      "process in thread 139809532749568 - taskId 39\n",
      "process in thread 139809636071168 - taskId 20\n",
      "process in thread 139809627678464 - taskId 21\n",
      "process in thread 139809686427392 - taskId 12\n",
      "process in thread 139809524356864 - taskId 43\n",
      "process in thread 139809515964160 - taskId 44\n",
      "process in thread 139809716668160 - taskId 23\n",
      "process in thread 139809619285760 - taskId 24\n",
      "process in thread 139809606211328 - taskId 25\n",
      "process in thread 139809708275456 - taskId 48\n",
      "process in thread 139809669641984 - taskId 80\n",
      "process in thread 139809305655040 - taskId 81\n",
      "process in thread 139809597818624 - taskId 82\n",
      "process in thread 139809297262336 - taskId 83\n",
      "process in thread 139809280476928 - taskId 53\n",
      "process in thread 139809288869632 - taskId 85\n",
      "process in thread 139809589425920 - taskId 28\n",
      "process in thread 139809661249280 - taskId 29\n",
      "process in thread 139809272084224 - taskId 88\n",
      "process in thread 139809678034688 - taskId 89\n",
      "process in thread 139809263691520 - taskId 90\n",
      "process in thread 139809581033216 - taskId 60\n",
      "process in thread 139809255298816 - taskId 61\n",
      "process in thread 139809564247808 - taskId 33\n",
      "process in thread 139809572640512 - taskId 94\n",
      "process in thread 139809246906112 - taskId 95\n",
      "process in thread 139809555855104 - taskId 65\n",
      "process in thread 139809644463872 - taskId 67\n",
      "process in thread 139809652856576 - taskId 98\n",
      "process in thread 139809699882752 - taskId 68\n",
      "finished\n"
     ]
    }
   ],
   "source": [
    "import multiprocessing, threading\n",
    "tasks = range(100)\n",
    "latch = CountDownLatch(len(tasks))\n",
    "\n",
    "def start_process(taskId):\n",
    "    latch.count_down(threading.get_ident(), taskId)\n",
    "pool = multiprocessing.pool.ThreadPool(processes=32)\n",
    "\n",
    "print(\"start\")\n",
    "pool.map(start_process, tasks)\n",
    "latch.wait()\n",
    "print(\"finished\")"
   ]
  },
  {
   "cell_type": "code",
   "execution_count": null,
   "metadata": {},
   "outputs": [],
   "source": []
  }
 ],
 "metadata": {
  "file_extension": ".py",
  "kernelspec": {
   "display_name": "Python 3",
   "language": "python",
   "name": "python3"
  },
  "language_info": {
   "codemirror_mode": {
    "name": "ipython",
    "version": 3
   },
   "file_extension": ".py",
   "mimetype": "text/x-python",
   "name": "python",
   "nbconvert_exporter": "python",
   "pygments_lexer": "ipython3",
   "version": "3.8.2"
  },
  "mimetype": "text/x-python",
  "name": "python",
  "npconvert_exporter": "python",
  "pygments_lexer": "ipython3",
  "version": 3
 },
 "nbformat": 4,
 "nbformat_minor": 4
}
