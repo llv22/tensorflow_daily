{
 "cells": [
  {
   "cell_type": "code",
   "execution_count": 1,
   "metadata": {},
   "outputs": [],
   "source": [
    "import tensorflow as tf"
   ]
  },
  {
   "cell_type": "code",
   "execution_count": null,
   "metadata": {},
   "outputs": [],
   "source": [
    "from half_cheetah_env import HalfCheetahEnv\n",
    "\n",
    "env = HalfCheetahEnv()\n",
    "\n",
    "_num_random_action_selection = 4096\n",
    "_horizon = 15\n",
    "_action_dim = env.action_space.shape[0]\n",
    "_action_space_low = env.action_space.low\n",
    "_action_space_high = env.action_space.high"
   ]
  },
  {
   "cell_type": "code",
   "execution_count": null,
   "metadata": {},
   "outputs": [],
   "source": [
    "actions_sequences = tf.random_uniform([_num_random_action_selection, _horizon, _action_dim], \n",
    "                                      _action_space_low, _action_space_high, tf.float32)"
   ]
  }
 ],
 "metadata": {
  "kernelspec": {
   "display_name": "Python 3",
   "language": "python",
   "name": "python3"
  },
  "language_info": {
   "codemirror_mode": {
    "name": "ipython",
    "version": 3
   },
   "file_extension": ".py",
   "mimetype": "text/x-python",
   "name": "python",
   "nbconvert_exporter": "python",
   "pygments_lexer": "ipython3",
   "version": "3.6.6"
  }
 },
 "nbformat": 4,
 "nbformat_minor": 2
}
