{
 "cells": [
  {
   "cell_type": "code",
   "execution_count": null,
   "metadata": {},
   "outputs": [],
   "source": [
    "import tensorflow as tf\n",
    "import numpy as np"
   ]
  },
  {
   "cell_type": "code",
   "execution_count": null,
   "metadata": {},
   "outputs": [],
   "source": [
    "action_dim = 3\n",
    "sample_N = 100\n",
    "Q_vs = np.random.rand(sample_N, action_dim)\n",
    "Q_values = tf.constant(Q_vs, dtype=tf.float32)\n",
    "Q_values.shape"
   ]
  },
  {
   "cell_type": "code",
   "execution_count": null,
   "metadata": {},
   "outputs": [],
   "source": [
    "Q_max_values = tf.reduce_max(Q_values, axis=-1)\n",
    "with tf.Session() as sess:\n",
    "    print(Q_max_values.eval().shape)"
   ]
  },
  {
   "cell_type": "code",
   "execution_count": null,
   "metadata": {},
   "outputs": [],
   "source": [
    "action_indexes = np.random.randint(action_dim, size=sample_N)\n",
    "action_indexes.shape"
   ]
  },
  {
   "cell_type": "code",
   "execution_count": null,
   "metadata": {},
   "outputs": [],
   "source": [
    "indices_d = np.dstack((np.arange(sample_N), action_indexes))\n",
    "# indices"
   ]
  },
  {
   "cell_type": "code",
   "execution_count": null,
   "metadata": {},
   "outputs": [],
   "source": [
    "# np.vstack([np.arange(sample_N), action_indexes])\n",
    "indices = np.array([[i, action] for i, action in enumerate(action_indexes)])\n",
    "# indices"
   ]
  },
  {
   "cell_type": "code",
   "execution_count": null,
   "metadata": {},
   "outputs": [],
   "source": [
    "assert np.all(indices_d == indices)\n",
    "assert np.all(indices_d == np.stack((np.arange(sample_N), action_indexes), axis=1))"
   ]
  },
  {
   "cell_type": "code",
   "execution_count": null,
   "metadata": {},
   "outputs": [],
   "source": [
    "with tf.Session() as sess:\n",
    "    assert np.all(tf.stack((tf.range(sample_N), action_indexes), axis=-1).eval() == indices)"
   ]
  },
  {
   "cell_type": "code",
   "execution_count": null,
   "metadata": {},
   "outputs": [],
   "source": [
    "with tf.Session() as sess:\n",
    "    print(tf.gather_nd(Q_values, indices_d).eval().shape)"
   ]
  },
  {
   "cell_type": "code",
   "execution_count": null,
   "metadata": {},
   "outputs": [],
   "source": [
    "done_mask_ph = np.random.rand(1, sample_N)\n",
    "done_mask_ph = done_mask_ph > 0.5\n",
    "done_mask_ph = done_mask_ph.astype(int)[0]\n",
    "done_mask_ph"
   ]
  },
  {
   "cell_type": "code",
   "execution_count": null,
   "metadata": {},
   "outputs": [],
   "source": [
    "inputs = np.array(np.arange(action_dim * sample_N).reshape(-1, action_dim))\n",
    "inputs.shape"
   ]
  },
  {
   "cell_type": "code",
   "execution_count": null,
   "metadata": {},
   "outputs": [],
   "source": [
    "with tf.Session() as sess:\n",
    "    for axis_index, shape in enumerate(inputs.shape):\n",
    "        print(axis_index, shape)\n",
    "        if axis_index == 1:\n",
    "            print(\"axis=%s ==> %s\" % (axis_index, tf.gather(inputs, [1], axis=axis_index).eval().shape))\n",
    "        else:\n",
    "            print(\"axis=%s ==> %s\" % (axis_index, tf.gather(inputs, [0, 2], axis=axis_index).eval().shape))"
   ]
  },
  {
   "cell_type": "code",
   "execution_count": null,
   "metadata": {},
   "outputs": [],
   "source": [
    "# using tf.one_hot for Q_values filter\n",
    "with tf.Session() as sess:\n",
    "    print(tf.one_hot(action_indexes, action_dim).eval().shape)\n",
    "#     print(tf.one_hot(action_indexes, action_dim) * Q_values)\n",
    "    print(tf.multiply(tf.one_hot(action_indexes, action_dim), Q_values).eval().shape)\n",
    "#     as tf.one_hot will remove all actions with zero values\n",
    "    print(tf.reduce_sum(tf.one_hot(action_indexes, action_dim) * Q_values, axis=-1).eval().shape)\n",
    "    print(tf.reduce_sum(tf.one_hot(action_indexes, action_dim) * Q_values, axis=0).eval().shape)"
   ]
  },
  {
   "cell_type": "markdown",
   "metadata": {},
   "source": [
    "# Q-Network Analysis"
   ]
  },
  {
   "cell_type": "code",
   "execution_count": null,
   "metadata": {},
   "outputs": [],
   "source": [
    "import gym\n",
    "import random\n",
    "import os.path as osp\n",
    "\n",
    "from gym import wrappers\n",
    "from atari_wrappers import *\n",
    "from dqn_utils import *\n",
    "\n",
    "def set_global_seeds(i):\n",
    "    try:\n",
    "        import tensorflow as tf\n",
    "    except ImportError:\n",
    "        pass\n",
    "    else:\n",
    "        tf.set_random_seed(i)\n",
    "    np.random.seed(i)\n",
    "    random.seed(i)\n",
    "\n",
    "def wrap_deepmind(env):\n",
    "    assert 'NoFrameskip' in env.spec.id\n",
    "    env = EpisodicLifeEnv(env)\n",
    "    env = NoopResetEnv(env, noop_max=30)\n",
    "    env = MaxAndSkipEnv(env, skip=4)\n",
    "    if 'FIRE' in env.unwrapped.get_action_meanings():\n",
    "        env = FireResetEnv(env)\n",
    "    env = ProcessFrame84(env)\n",
    "    env = ClippedRewardsWrapper(env)\n",
    "    return env"
   ]
  },
  {
   "cell_type": "code",
   "execution_count": null,
   "metadata": {},
   "outputs": [],
   "source": [
    "env = gym.make('PongNoFrameskip-v4')\n",
    "\n",
    "seed = random.randint(0, 9999)\n",
    "set_global_seeds(seed)\n",
    "env.seed(seed)\n",
    "\n",
    "expt_dir = '/tmp/hw3_vid_dir2/'\n",
    "env = wrappers.Monitor(env, osp.join(expt_dir, \"gym\"), force=True)\n",
    "env = wrap_deepmind(env)"
   ]
  },
  {
   "cell_type": "code",
   "execution_count": null,
   "metadata": {},
   "outputs": [],
   "source": [
    "replay_buffer_size=1000000\n",
    "frame_history_len=4\n",
    "lander=False\n",
    "\n",
    "replay_buffer = ReplayBuffer(replay_buffer_size, frame_history_len, lander=lander)"
   ]
  },
  {
   "cell_type": "code",
   "execution_count": null,
   "metadata": {},
   "outputs": [],
   "source": [
    "last_obs = env.reset()\n",
    "replay_buffer_idx = replay_buffer.store_frame(last_obs)\n",
    "obs_Q_input = replay_buffer.encode_recent_observation()"
   ]
  },
  {
   "cell_type": "code",
   "execution_count": null,
   "metadata": {},
   "outputs": [],
   "source": []
  }
 ],
 "metadata": {
  "kernelspec": {
   "display_name": "Python 3",
   "language": "python",
   "name": "python3"
  },
  "language_info": {
   "codemirror_mode": {
    "name": "ipython",
    "version": 3
   },
   "file_extension": ".py",
   "mimetype": "text/x-python",
   "name": "python",
   "nbconvert_exporter": "python",
   "pygments_lexer": "ipython3",
   "version": "3.6.6"
  }
 },
 "nbformat": 4,
 "nbformat_minor": 2
}
