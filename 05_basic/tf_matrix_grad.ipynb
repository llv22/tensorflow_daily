{
 "cells": [
  {
   "cell_type": "code",
   "execution_count": 1,
   "metadata": {},
   "outputs": [],
   "source": [
    "import tensorflow as tf\n",
    "import numpy as np"
   ]
  },
  {
   "cell_type": "code",
   "execution_count": 2,
   "metadata": {},
   "outputs": [
    {
     "name": "stdout",
     "output_type": "stream",
     "text": [
      "Tensor(\"Y:0\", shape=(3, 1), dtype=float32)\n"
     ]
    }
   ],
   "source": [
    "a = tf.get_variable(\"a\", [1])\n",
    "b = tf.get_variable(\"b\", [1])\n",
    "Y = tf.convert_to_tensor([a + b, 4*a - b, 5*a + 3*b], name=\"Y\")\n",
    "print(Y)\n",
    "y_grad_a = tf.gradients(Y, [a])\n",
    "y_grad_b = tf.gradients(Y, [b])"
   ]
  },
  {
   "cell_type": "code",
   "execution_count": 3,
   "metadata": {},
   "outputs": [
    {
     "name": "stdout",
     "output_type": "stream",
     "text": [
      "[[-1.8151407]\n",
      " [-4.348027 ]\n",
      " [-7.9106894]]\n",
      "[array([10.], dtype=float32)]\n",
      "[array([3.], dtype=float32)]\n"
     ]
    }
   ],
   "source": [
    "with tf.Session() as sess:\n",
    "    sess.run(tf.global_variables_initializer())\n",
    "    print(sess.run(Y))\n",
    "    print(sess.run(y_grad_a))\n",
    "    print(sess.run(y_grad_b))"
   ]
  },
  {
   "cell_type": "code",
   "execution_count": 4,
   "metadata": {},
   "outputs": [
    {
     "name": "stdout",
     "output_type": "stream",
     "text": [
      "x = \n",
      " [[2 3 9]\n",
      " [9 1 9]\n",
      " [9 1 9]\n",
      " [6 8 1]]\n",
      "y = \n",
      " [[  8.  18. 162.]\n",
      " [162.   2. 162.]\n",
      " [162.   2. 162.]\n",
      " [ 72. 128.   2.]]\n",
      "dy/dx = \n",
      " [[ 8. 12. 36.]\n",
      " [36.  4. 36.]\n",
      " [36.  4. 36.]\n",
      " [24. 32.  4.]]\n"
     ]
    }
   ],
   "source": [
    "# refer to https://stackoverflow.com/questions/51858970/tf-gradients-sums-over-ys-does-it\n",
    "x_dims = 3\n",
    "batch_size = 4\n",
    "\n",
    "x = tf.placeholder(tf.float32, (None, x_dims))\n",
    "\n",
    "y = 2*(x**2)\n",
    "\n",
    "grads = tf.gradients(y,x)\n",
    "\n",
    "sess = tf.Session()\n",
    "\n",
    "x_val = np.random.randint(0, 10, (batch_size, x_dims))\n",
    "y_val, grads_val = sess.run([y, grads], {x:x_val})\n",
    "\n",
    "print('x = \\n', x_val)\n",
    "print('y = \\n', y_val)\n",
    "print('dy/dx = \\n', grads_val[0])"
   ]
  },
  {
   "cell_type": "code",
   "execution_count": 5,
   "metadata": {},
   "outputs": [],
   "source": [
    "# refer to https://github.com/tensorflow/tensorflow/issues/675\n",
    "# https://github.com/tensorflow/tensorflow/blob/master/tensorflow/python/ops/parallel_for/gradients.py#L28\n",
    "# https://uesugierii.github.io/articles/9.html\n",
    "from tensorflow.python.ops.parallel_for import jacobian, batch_jacobian"
   ]
  },
  {
   "cell_type": "code",
   "execution_count": 6,
   "metadata": {},
   "outputs": [
    {
     "name": "stdout",
     "output_type": "stream",
     "text": [
      "[array([[[1.]],\n",
      "\n",
      "       [[4.]],\n",
      "\n",
      "       [[5.]]], dtype=float32), array([[[ 1.]],\n",
      "\n",
      "       [[-1.]],\n",
      "\n",
      "       [[ 3.]]], dtype=float32)]\n"
     ]
    }
   ],
   "source": [
    "Y_ab = jacobian(Y, [a, b])\n",
    "with tf.Session() as sess:\n",
    "    sess.run(tf.global_variables_initializer())\n",
    "    print(sess.run(Y_ab))"
   ]
  }
 ],
 "metadata": {
  "kernelspec": {
   "display_name": "Python 3",
   "language": "python",
   "name": "python3"
  },
  "language_info": {
   "codemirror_mode": {
    "name": "ipython",
    "version": 3
   },
   "file_extension": ".py",
   "mimetype": "text/x-python",
   "name": "python",
   "nbconvert_exporter": "python",
   "pygments_lexer": "ipython3",
   "version": "3.6.7"
  }
 },
 "nbformat": 4,
 "nbformat_minor": 2
}
