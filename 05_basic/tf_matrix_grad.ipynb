{
 "cells": [
  {
   "cell_type": "code",
   "execution_count": 1,
   "metadata": {},
   "outputs": [
    {
     "name": "stderr",
     "output_type": "stream",
     "text": [
      "/home/dluser1/miniconda3/lib/python3.6/site-packages/h5py/__init__.py:36: FutureWarning: Conversion of the second argument of issubdtype from `float` to `np.floating` is deprecated. In future, it will be treated as `np.float64 == np.dtype(float).type`.\n",
      "  from ._conv import register_converters as _register_converters\n"
     ]
    }
   ],
   "source": [
    "import tensorflow as tf\n",
    "import numpy as np"
   ]
  },
  {
   "cell_type": "code",
   "execution_count": 2,
   "metadata": {},
   "outputs": [
    {
     "name": "stdout",
     "output_type": "stream",
     "text": [
      "Tensor(\"Y:0\", shape=(3, 1), dtype=float32)\n"
     ]
    }
   ],
   "source": [
    "a = tf.get_variable(\"a\", [1])\n",
    "b = tf.get_variable(\"b\", [1])\n",
    "Y = tf.convert_to_tensor([a + b, 4*a - b, 5*a + 3*b], name=\"Y\")\n",
    "print(Y)\n",
    "y_grad_a = tf.gradients(Y, [a])\n",
    "y_grad_b = tf.gradients(Y, [b])"
   ]
  },
  {
   "cell_type": "code",
   "execution_count": 3,
   "metadata": {},
   "outputs": [
    {
     "name": "stdout",
     "output_type": "stream",
     "text": [
      "[[ 2.7781806]\n",
      " [ 2.5253758]\n",
      " [10.455965 ]]\n",
      "[array([10.], dtype=float32)]\n",
      "[array([3.], dtype=float32)]\n"
     ]
    }
   ],
   "source": [
    "with tf.Session() as sess:\n",
    "    sess.run(tf.global_variables_initializer())\n",
    "    print(sess.run(Y))\n",
    "    print(sess.run(y_grad_a))\n",
    "    print(sess.run(y_grad_b))"
   ]
  },
  {
   "cell_type": "code",
   "execution_count": 4,
   "metadata": {},
   "outputs": [
    {
     "name": "stdout",
     "output_type": "stream",
     "text": [
      "x = \n",
      " [[7 9 5]\n",
      " [0 5 1]\n",
      " [9 6 6]\n",
      " [7 8 5]]\n",
      "y = \n",
      " [[ 98. 162.  50.]\n",
      " [  0.  50.   2.]\n",
      " [162.  72.  72.]\n",
      " [ 98. 128.  50.]]\n",
      "dy/dx = \n",
      " [[28. 36. 20.]\n",
      " [ 0. 20.  4.]\n",
      " [36. 24. 24.]\n",
      " [28. 32. 20.]]\n"
     ]
    }
   ],
   "source": [
    "# refer to https://stackoverflow.com/questions/51858970/tf-gradients-sums-over-ys-does-it\n",
    "x_dims = 3\n",
    "batch_size = 4\n",
    "\n",
    "x = tf.placeholder(tf.float32, (None, x_dims))\n",
    "\n",
    "y = 2*(x**2)\n",
    "\n",
    "grads = tf.gradients(y,x)\n",
    "\n",
    "sess = tf.Session()\n",
    "\n",
    "x_val = np.random.randint(0, 10, (batch_size, x_dims))\n",
    "y_val, grads_val = sess.run([y, grads], {x:x_val})\n",
    "\n",
    "print('x = \\n', x_val)\n",
    "print('y = \\n', y_val)\n",
    "print('dy/dx = \\n', grads_val[0])"
   ]
  },
  {
   "cell_type": "code",
   "execution_count": 5,
   "metadata": {},
   "outputs": [],
   "source": [
    "# refer to https://github.com/tensorflow/tensorflow/issues/675\n",
    "# https://github.com/tensorflow/tensorflow/blob/master/tensorflow/python/ops/parallel_for/gradients.py#L28\n",
    "# https://uesugierii.github.io/articles/9.html\n",
    "from tensorflow.python.ops.parallel_for import jacobian, batch_jacobian"
   ]
  },
  {
   "cell_type": "code",
   "execution_count": 6,
   "metadata": {},
   "outputs": [
    {
     "name": "stdout",
     "output_type": "stream",
     "text": [
      "Tensor(\"Squeeze:0\", shape=(3,), dtype=float32)\n",
      "Tensor(\"packed:0\", shape=(2, 3, 1, 1), dtype=float32)\n",
      "[1. 4. 5.]\n"
     ]
    }
   ],
   "source": [
    "Y_ab = tf.convert_to_tensor(jacobian(Y, [a, b]))\n",
    "Y_a = tf.squeeze(tf.convert_to_tensor(jacobian(Y, a)))\n",
    "print(Y_a)\n",
    "print(Y_ab)\n",
    "with tf.Session() as sess:\n",
    "    sess.run(tf.global_variables_initializer())\n",
    "    result = sess.run(Y_ab)\n",
    "    res = []\n",
    "    for i in range(len(result)):\n",
    "        res.append(np.squeeze(result[i].tolist()))\n",
    "    \n",
    "    result_a = sess.run(Y_a)\n",
    "    print(result_a)"
   ]
  },
  {
   "cell_type": "code",
   "execution_count": 7,
   "metadata": {},
   "outputs": [
    {
     "data": {
      "text/plain": [
       "[array([1., 4., 5.]), array([ 1., -1.,  3.])]"
      ]
     },
     "execution_count": 7,
     "metadata": {},
     "output_type": "execute_result"
    }
   ],
   "source": [
    "res"
   ]
  },
  {
   "cell_type": "code",
   "execution_count": null,
   "metadata": {},
   "outputs": [],
   "source": []
  }
 ],
 "metadata": {
  "kernelspec": {
   "display_name": "Python 3",
   "language": "python",
   "name": "python3"
  },
  "language_info": {
   "codemirror_mode": {
    "name": "ipython",
    "version": 3
   },
   "file_extension": ".py",
   "mimetype": "text/x-python",
   "name": "python",
   "nbconvert_exporter": "python",
   "pygments_lexer": "ipython3",
   "version": "3.6.6"
  }
 },
 "nbformat": 4,
 "nbformat_minor": 2
}
