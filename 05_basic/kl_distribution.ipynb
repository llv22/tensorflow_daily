{
 "cells": [
  {
   "cell_type": "code",
   "execution_count": 1,
   "metadata": {},
   "outputs": [
    {
     "name": "stderr",
     "output_type": "stream",
     "text": [
      "/home/dluser1/miniconda3/lib/python3.6/site-packages/h5py/__init__.py:36: FutureWarning: Conversion of the second argument of issubdtype from `float` to `np.floating` is deprecated. In future, it will be treated as `np.float64 == np.dtype(float).type`.\n",
      "  from ._conv import register_converters as _register_converters\n"
     ]
    },
    {
     "name": "stdout",
     "output_type": "stream",
     "text": [
      "WARNING:tensorflow:From /home/dluser1/miniconda3/lib/python3.6/site-packages/tensorflow_probability/python/distributions/deterministic.py:386: RegisterKL.__init__ (from tensorflow.python.ops.distributions.kullback_leibler) is deprecated and will be removed after 2019-01-01.\n",
      "Instructions for updating:\n",
      "The TensorFlow Distributions library has moved to TensorFlow Probability (https://github.com/tensorflow/probability). You should update all references to use `tfp.distributions` instead of `tf.distributions`.\n"
     ]
    }
   ],
   "source": [
    "import tensorflow as tf\n",
    "# build for tfp-nightly==0.4.20181207 in https://github.com/tensorflow/probability\n",
    "# tfp = tf.contrib\n",
    "import tensorflow_probability as tfp"
   ]
  },
  {
   "cell_type": "code",
   "execution_count": 2,
   "metadata": {},
   "outputs": [
    {
     "name": "stdout",
     "output_type": "stream",
     "text": [
      "WARNING:tensorflow:From /home/dluser1/miniconda3/lib/python3.6/site-packages/tensorflow_probability/python/distributions/mvn_linear_operator.py:183: Normal.__init__ (from tensorflow.python.ops.distributions.normal) is deprecated and will be removed after 2019-01-01.\n",
      "Instructions for updating:\n",
      "The TensorFlow Distributions library has moved to TensorFlow Probability (https://github.com/tensorflow/probability). You should update all references to use `tfp.distributions` instead of `tf.distributions`.\n",
      "WARNING:tensorflow:From /home/dluser1/.local/lib/python3.6/site-packages/tensorflow/python/ops/distributions/normal.py:160: Distribution.__init__ (from tensorflow.python.ops.distributions.distribution) is deprecated and will be removed after 2019-01-01.\n",
      "Instructions for updating:\n",
      "The TensorFlow Distributions library has moved to TensorFlow Probability (https://github.com/tensorflow/probability). You should update all references to use `tfp.distributions` instead of `tf.distributions`.\n",
      "WARNING:tensorflow:From /home/dluser1/miniconda3/lib/python3.6/site-packages/tensorflow_probability/python/distributions/mvn_linear_operator.py:189: TransformedDistribution.__init__ (from tensorflow.python.ops.distributions.transformed_distribution) is deprecated and will be removed after 2019-01-01.\n",
      "Instructions for updating:\n",
      "The TensorFlow Distributions library has moved to TensorFlow Probability (https://github.com/tensorflow/probability). You should update all references to use `tfp.distributions` instead of `tf.distributions`.\n"
     ]
    }
   ],
   "source": [
    "z_size = 10\n",
    "prior_mean = tf.constant(0., shape=[z_size,], dtype=tf.float32, name=\"prior_mean\")\n",
    "prior_logstd = tf.constant(0., shape=[z_size,], dtype=tf.float32, name=\"prior_logstd\")\n",
    "prior = tfp.distributions.MultivariateNormalDiag(loc=prior_mean, scale_diag=tf.exp(prior_logstd))"
   ]
  },
  {
   "cell_type": "code",
   "execution_count": 3,
   "metadata": {},
   "outputs": [
    {
     "name": "stdout",
     "output_type": "stream",
     "text": [
      "[ 1.02341    -1.9833782   1.1007229  -0.27860725 -0.5836248   0.20264654\n",
      "  0.8411573   0.54355925  0.7116905   0.5265353 ]\n"
     ]
    }
   ],
   "source": [
    "with tf.Session() as sess:\n",
    "    print(sess.run(prior.sample()))"
   ]
  },
  {
   "cell_type": "code",
   "execution_count": 4,
   "metadata": {},
   "outputs": [
    {
     "name": "stdout",
     "output_type": "stream",
     "text": [
      "WARNING:tensorflow:From /home/dluser1/.local/lib/python3.6/site-packages/tensorflow/python/framework/op_def_library.py:263: colocate_with (from tensorflow.python.framework.ops) is deprecated and will be removed in a future version.\n",
      "Instructions for updating:\n",
      "Colocations handled automatically by placer.\n"
     ]
    }
   ],
   "source": [
    "# For multivariant Gaussian\n",
    "z_mean = tf.get_variable(shape=[z_size,], dtype=tf.float32, name=\"z_mean\", initializer=tf.random_normal_initializer())\n",
    "z_logstd = tf.get_variable(shape=[z_size,], dtype=tf.float32, name=\"z_logstd\", initializer=tf.zeros_initializer())\n",
    "encoder = tfp.distributions.MultivariateNormalDiag(loc=z_mean, scale_diag=tf.exp(z_logstd))\n",
    "z1 = encoder.sample()"
   ]
  },
  {
   "cell_type": "code",
   "execution_count": 5,
   "metadata": {},
   "outputs": [
    {
     "name": "stdout",
     "output_type": "stream",
     "text": [
      "[10]\n",
      "[-0.13765192 -0.50209075 -0.8914674   1.0054222  -1.0998272  -1.2059488\n",
      " -0.3827492   1.025421    1.9773877   0.56697   ]\n"
     ]
    }
   ],
   "source": [
    "with tf.Session() as sess:\n",
    "    sess.run(tf.global_variables_initializer())\n",
    "    print(sess.run(tf.shape(z1)))\n",
    "    print(z1.eval())"
   ]
  },
  {
   "cell_type": "code",
   "execution_count": 6,
   "metadata": {},
   "outputs": [],
   "source": [
    "# For multivariant Gaussian\n",
    "z_mean1 = tf.get_variable(shape=[z_size,], dtype=tf.float32, name=\"z_mean1\", initializer=tf.contrib.layers.xavier_initializer())\n",
    "z_logstd1 = tf.get_variable(shape=[z_size,], dtype=tf.float32, name=\"z_logstd1\", initializer=tf.random_normal_initializer())\n",
    "encoder1 = tfp.distributions.MultivariateNormalDiag(loc=z_mean, scale_diag=tf.exp(z_logstd))\n",
    "\n",
    "z_mean2 = tf.get_variable(shape=[z_size,], dtype=tf.float32, name=\"z_mean2\", initializer=tf.random_normal_initializer())\n",
    "z_logstd2 = tf.get_variable(shape=[z_size,], dtype=tf.float32, name=\"z_logstd2\", initializer=tf.random_uniform_initializer())\n",
    "encoder2 = tfp.distributions.MultivariateNormalDiag(loc=z_mean, scale_diag=tf.exp(z_logstd))"
   ]
  },
  {
   "cell_type": "code",
   "execution_count": 7,
   "metadata": {},
   "outputs": [
    {
     "name": "stdout",
     "output_type": "stream",
     "text": [
      "WARNING:tensorflow:From <ipython-input-7-bc224991e20f>:1: kl_divergence (from tensorflow.python.ops.distributions.kullback_leibler) is deprecated and will be removed after 2019-01-01.\n",
      "Instructions for updating:\n",
      "The TensorFlow Distributions library has moved to TensorFlow Probability (https://github.com/tensorflow/probability). You should update all references to use `tfp.distributions` instead of `tf.distributions`.\n"
     ]
    }
   ],
   "source": [
    "kl_divegenece1 = tf.distributions.kl_divergence(encoder1, prior)\n",
    "kl_divegenece2 = tf.distributions.kl_divergence(encoder2, prior)"
   ]
  },
  {
   "cell_type": "code",
   "execution_count": 8,
   "metadata": {},
   "outputs": [
    {
     "name": "stdout",
     "output_type": "stream",
     "text": [
      "[array([ 0.12335569, -0.00553989, -0.11099133, -0.0319441 , -0.44830757,\n",
      "       -0.3037274 ,  0.05264598, -0.3234036 ,  0.39361334,  0.3019327 ],\n",
      "      dtype=float32), array([ 0.08302101, -0.47136813,  1.4584515 ,  0.5657102 , -0.1027234 ,\n",
      "       -0.6148265 ,  0.17088632,  0.0415826 , -1.0885224 , -1.1593759 ],\n",
      "      dtype=float32)]\n",
      "[array([-1.1978928 ,  0.02360962,  0.36710918, -0.22555557,  1.495712  ,\n",
      "        1.8896527 , -1.3982941 , -0.54712015,  0.4820804 , -0.22114728],\n",
      "      dtype=float32), array([0.7938647 , 0.28366184, 0.75365436, 0.19922662, 0.63782895,\n",
      "       0.4907018 , 0.8356682 , 0.89777935, 0.07860672, 0.7093245 ],\n",
      "      dtype=float32)]\n",
      "[5.793955, 5.793955]\n"
     ]
    }
   ],
   "source": [
    "with tf.Session() as sess:\n",
    "    sess.run(tf.global_variables_initializer())\n",
    "    print(sess.run([z_mean1, z_logstd1]))\n",
    "    print(sess.run([z_mean2, z_logstd2]))\n",
    "    print(sess.run([kl_divegenece1, kl_divegenece2]))"
   ]
  },
  {
   "cell_type": "code",
   "execution_count": 11,
   "metadata": {},
   "outputs": [
    {
     "data": {
      "text/plain": [
       "<tf.Tensor 'discrim_target_2:0' shape=(?, 1) dtype=float32>"
      ]
     },
     "execution_count": 11,
     "metadata": {},
     "output_type": "execute_result"
    }
   ],
   "source": [
    "discrim_target = tf.placeholder(shape=[None, 1], name=\"discrim_target\", dtype=tf.float32)\n",
    "discrim_target"
   ]
  },
  {
   "cell_type": "code",
   "execution_count": 12,
   "metadata": {},
   "outputs": [
    {
     "data": {
      "text/plain": [
       "<tf.Tensor 'Shape_1:0' shape=(?,) dtype=int32>"
      ]
     },
     "execution_count": 12,
     "metadata": {},
     "output_type": "execute_result"
    }
   ],
   "source": [
    "tf.shape(tf.squeeze(discrim_target))"
   ]
  },
  {
   "cell_type": "code",
   "execution_count": 15,
   "metadata": {},
   "outputs": [
    {
     "data": {
      "text/plain": [
       "<tf.Tensor 'Squeeze_5:0' shape=(?,) dtype=float32>"
      ]
     },
     "execution_count": 15,
     "metadata": {},
     "output_type": "execute_result"
    }
   ],
   "source": [
    "tf.squeeze(discrim_target, axis=-1)"
   ]
  },
  {
   "cell_type": "code",
   "execution_count": 20,
   "metadata": {},
   "outputs": [
    {
     "data": {
      "text/plain": [
       "(10,)"
      ]
     },
     "execution_count": 20,
     "metadata": {},
     "output_type": "execute_result"
    }
   ],
   "source": [
    "import numpy as np\n",
    "(np.array([0.5]* 10) ).shape"
   ]
  },
  {
   "cell_type": "code",
   "execution_count": null,
   "metadata": {},
   "outputs": [],
   "source": []
  }
 ],
 "metadata": {
  "kernelspec": {
   "display_name": "Python 3",
   "language": "python",
   "name": "python3"
  },
  "language_info": {
   "codemirror_mode": {
    "name": "ipython",
    "version": 3
   },
   "file_extension": ".py",
   "mimetype": "text/x-python",
   "name": "python",
   "nbconvert_exporter": "python",
   "pygments_lexer": "ipython3",
   "version": "3.6.6"
  }
 },
 "nbformat": 4,
 "nbformat_minor": 2
}
