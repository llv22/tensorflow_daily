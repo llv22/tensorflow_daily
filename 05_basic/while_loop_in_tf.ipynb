{
 "cells": [
  {
   "cell_type": "code",
   "execution_count": 1,
   "metadata": {},
   "outputs": [],
   "source": [
    "import numpy as np\n",
    "import tensorflow as tf\n",
    "from sklearn import datasets\n",
    "import matplotlib.pyplot as plt\n",
    "%matplotlib inline"
   ]
  },
  {
   "cell_type": "code",
   "execution_count": 2,
   "metadata": {},
   "outputs": [],
   "source": [
    "n = 5\n",
    "op1 = tf.while_loop(lambda i: i < n, lambda i: i+1, [0]) \n",
    "op2 = tf.while_loop(lambda i, x: i < n, lambda i, x: (i+1, x), (0,0))"
   ]
  },
  {
   "cell_type": "code",
   "execution_count": 3,
   "metadata": {},
   "outputs": [
    {
     "name": "stdout",
     "output_type": "stream",
     "text": [
      "[7, 3, 3]\n"
     ]
    }
   ],
   "source": [
    "# refer to http://mlexplore.org/2018/03/27/tensorflow-conditionals-and-while-loops/\n",
    "def cond_loop(t1, t2, iters):\n",
    "    def cond(t1, t2, i):\n",
    "        return tf.less(i, iters)\n",
    "\n",
    "    def body(t1, t2, i):\n",
    "        def increment(t1, t2):\n",
    "            def f1(): return tf.add(t1, 1), tf.add(t2, 1)\n",
    "            return f1\n",
    "\n",
    "        def swap(t1, t2):\n",
    "            def f2(): return t2, t1\n",
    "            return f2\n",
    "\n",
    "        t1, t2 = tf.cond(tf.less(i+1, iters),\n",
    "                         increment(t1, t2),\n",
    "                         swap(t1, t2))\n",
    "\n",
    "        return [t1, t2, tf.add(i, 1)]\n",
    "\n",
    "    return tf.while_loop(cond, body, [t1, t2, 0])\n",
    "\n",
    "t1 = tf.constant(1)\n",
    "t2 = tf.constant(5)\n",
    "iters = tf.constant(3)\n",
    "\n",
    "with tf.Session() as sess:\n",
    "    loop = cond_loop(t1, t2, iters)\n",
    "    print(sess.run(loop))"
   ]
  },
  {
   "cell_type": "code",
   "execution_count": 4,
   "metadata": {},
   "outputs": [
    {
     "name": "stdout",
     "output_type": "stream",
     "text": [
      "[7, 3, 3]\n"
     ]
    }
   ],
   "source": [
    "def cond(t1, t2, i):\n",
    "    return tf.less(i, iters)\n",
    "\n",
    "def increment(t1, t2):\n",
    "    def f1(): return tf.add(t1, 1), tf.add(t2, 1)\n",
    "    return f1\n",
    "# def increment(t1, t2):\n",
    "#     return tf.add(t1, 1), tf.add(t2, 1)\n",
    "\n",
    "def swap(t1, t2):\n",
    "    def f2(): return t2, t1\n",
    "    return f2\n",
    "# def swap(t1, t2):\n",
    "#     return t2, t1\n",
    "        \n",
    "def cond_loop(t1, t2, iters):\n",
    "    def body(t1, t2, i):\n",
    "        t1, t2 = tf.cond(tf.less(i+1, iters),\n",
    "                        increment(t1, t2),\n",
    "                        swap(t1, t2))\n",
    "        return [t1, t2, tf.add(i, 1)]\n",
    "    \n",
    "    return tf.while_loop(lambda t1, t2, i: tf.less(i, iters), \n",
    "                         body, \n",
    "                         [t1, t2, 0])\n",
    "\n",
    "t1 = tf.constant(1)\n",
    "t2 = tf.constant(5)\n",
    "iters = tf.constant(3)\n",
    "\n",
    "with tf.Session() as sess:\n",
    "    loop = cond_loop(t1, t2, iters)\n",
    "    print(sess.run(loop))"
   ]
  },
  {
   "cell_type": "code",
   "execution_count": 5,
   "metadata": {},
   "outputs": [],
   "source": [
    "# load data\n",
    "iris = datasets.load_iris()\n",
    "x_vals = np.array([[x[0], x[3]] for x in iris.data])\n",
    "y_vals = np.array([1 if y == 0 else -1 for y in iris.target])"
   ]
  },
  {
   "cell_type": "code",
   "execution_count": 6,
   "metadata": {},
   "outputs": [],
   "source": [
    "from sklearn.model_selection import KFold\n",
    "\n",
    "kf = KFold(n_splits=2, random_state=42)\n",
    "for train_index, test_index in kf.split(x_vals, y_vals):\n",
    "    X_train, y_train, X_test, y_test = x_vals[train_index], y_vals[train_index], x_vals[test_index], y_vals[test_index]"
   ]
  },
  {
   "cell_type": "code",
   "execution_count": 7,
   "metadata": {},
   "outputs": [],
   "source": [
    "_X_len = X_train.shape[0]\n",
    "_X_dim = X_train.shape[-1]\n",
    "_y_dim = y_train.shape[-1]\n",
    "_max_iter=10000; _kernel_type='linear'; _C=1.0; _epsilon=1e-3"
   ]
  },
  {
   "cell_type": "code",
   "execution_count": 8,
   "metadata": {},
   "outputs": [],
   "source": [
    "def svm_weights(X_len: int, X_dim: int, y_dim: int, scope=\"svm\"):\n",
    "    \"\"\"[setup svm variables weights]\n",
    "\n",
    "    Arguments:\n",
    "        X_len {[int]} -- [total number of X instance]\n",
    "        X_dim {[int]} -- [dimension number of X]\n",
    "        y_dim {[int]} -- [dimension number of y]\n",
    "\n",
    "    Keyword Arguments:\n",
    "        scope {str} -- [description] (default: {\"svm\"})\n",
    "    \"\"\"\n",
    "    with tf.variable_scope(scope, reuse=tf.AUTO_REUSE):\n",
    "        W = tf.get_variable(\"W\", [X_dim, y_dim], initializer=tf.contrib.layers.xavier_initializer())\n",
    "        b = tf.get_variable(\"b\", [y_dim], initializer=tf.contrib.layers.xavier_initializer())\n",
    "        alphas = tf.random_uniform([X_len], dtype=tf.float32) * _C\n",
    "    return W, b, alphas"
   ]
  },
  {
   "cell_type": "code",
   "execution_count": 9,
   "metadata": {},
   "outputs": [],
   "source": [
    "_X = tf.placeholder(tf.float32, shape=[None, _X_dim])\n",
    "_y = tf.placeholder(tf.float32, shape=[None, _y_dim])\n",
    "_W, _b, _alphas = svm_weights(_X_len, _X_dim, _y_dim)\n",
    "_pred_y = tf.matmul(_X, _W) - _b"
   ]
  },
  {
   "cell_type": "code",
   "execution_count": 10,
   "metadata": {},
   "outputs": [],
   "source": [
    "def takeStep(i1, i2):\n",
    "    raise NotImplementedError"
   ]
  },
  {
   "cell_type": "code",
   "execution_count": 11,
   "metadata": {},
   "outputs": [],
   "source": [
    "def examineExample(i2, numChanged):\n",
    "    \"\"\"[take training sample X_train[i2] as \\alpha_2 to check \\alpha_1]\n",
    "\n",
    "    Arguments:\n",
    "        i {int} -- [training sample index]\n",
    "        numChanged {int} -- [number of training changes for _alphas]\n",
    "\n",
    "    Returns:\n",
    "        cnt {int} - [if i2 is improved by heursitic search pair of relevant i1]\n",
    "    \"\"\"\n",
    "    _y2 = _y[i2]; _alpha2 = _alphas[i2]; _E2 = _pred_y[i2] - _y2; _r2 = _E2 * _y2\n",
    "    # refer to : https://blog.csdn.net/m_buddy/article/details/52496538\n",
    "    changed = tf.cond(tf.logical_or(tf.logical_and(tf.less(_r2, -_epsilon), tf.less(_alpha2, _C)), \n",
    "                                    tf.logical_and(tf.greater(_r2, _epsilon), tf.greater(_alpha2, 0))),\n",
    "                    # function to handle with i1, i2 search\n",
    "                      lambda: 1,\n",
    "                      lambda: 0)\n",
    "    return i2+1, changed"
   ]
  },
  {
   "cell_type": "code",
   "execution_count": 12,
   "metadata": {},
   "outputs": [],
   "source": [
    "numChanged = 0; examineAll = True\n",
    "\n",
    "def smo_loop(numChanged: tf.Tensor, examineAll: tf.Tensor):\n",
    "    \"\"\"[loop processing for SMO]\n",
    "\n",
    "    Arguments:\n",
    "        numChanged {tf.Tensor} -- [if alpha_1 or alpha_2 is changed during the iteration]\n",
    "        examineAll {tf.Tensor} -- [if all training sample is processed during the iteration]\n",
    "\n",
    "    Returns:\n",
    "        [tuple(numChanged, examineAll)] -- [numChanged - alpha change times; examineAll - if all training examples is went through]\n",
    "    \"\"\"\n",
    "    # loop I over all training examples\n",
    "    _, train_changed = tf.while_loop(lambda i2, numChanged: i2 < _X_len, examineExample, (0, 0))\n",
    "    # loop I over examples where alpha is not 0 & not _C\n",
    "    _, breaker_changed = tf.while_loop(lambda i2, numChanged: i2 < _X_len,\n",
    "                                       lambda i2, numChanged: tf.cond(\n",
    "                                           tf.logical_and(tf.not_equal(_alphas[i2], 0), tf.not_equal(_alphas[i2], _C)),\n",
    "                                           lambda: examineExample(i2, numChanged),\n",
    "                                           lambda: (i2+1, 0)\n",
    "                                       ), \n",
    "                                       (0, 0))\n",
    "    numChanged = numChanged + tf.cond(examineAll, lambda: train_changed, lambda: breaker_changed)\n",
    "    # Debugging purpose: check if loop SMO is working or not\n",
    "#     numChanged = tf.Print(numChanged, [numChanged], message=\"numChanged:\")\n",
    "    examineAll = tf.cond(examineAll, lambda: False, lambda: tf.cond(tf.equal(numChanged, 0), lambda: True, lambda: examineAll))\n",
    "    return numChanged, examineAll\n",
    "\n",
    "op = tf.while_loop(lambda numChanged, examineAll: tf.logical_or(numChanged > 0, examineAll), smo_loop, (numChanged, examineAll))"
   ]
  },
  {
   "cell_type": "code",
   "execution_count": null,
   "metadata": {},
   "outputs": [],
   "source": []
  }
 ],
 "metadata": {
  "kernelspec": {
   "display_name": "Python 3",
   "language": "python",
   "name": "python3"
  },
  "language_info": {
   "codemirror_mode": {
    "name": "ipython",
    "version": 3
   },
   "file_extension": ".py",
   "mimetype": "text/x-python",
   "name": "python",
   "nbconvert_exporter": "python",
   "pygments_lexer": "ipython3",
   "version": "3.6.7"
  }
 },
 "nbformat": 4,
 "nbformat_minor": 2
}
