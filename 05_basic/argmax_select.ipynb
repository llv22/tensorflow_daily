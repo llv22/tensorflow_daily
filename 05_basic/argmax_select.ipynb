{
 "cells": [
  {
   "cell_type": "code",
   "execution_count": 1,
   "metadata": {},
   "outputs": [],
   "source": [
    "import tensorflow as tf"
   ]
  },
  {
   "cell_type": "code",
   "execution_count": 2,
   "metadata": {},
   "outputs": [],
   "source": [
    "from half_cheetah_env import HalfCheetahEnv\n",
    "\n",
    "env = HalfCheetahEnv()"
   ]
  },
  {
   "cell_type": "code",
   "execution_count": 3,
   "metadata": {},
   "outputs": [],
   "source": [
    "state = env.reset()"
   ]
  },
  {
   "cell_type": "code",
   "execution_count": 4,
   "metadata": {},
   "outputs": [
    {
     "name": "stdout",
     "output_type": "stream",
     "text": [
      "_action_space_low:[-1. -1. -1. -1. -1. -1.], _action_space_high:[1. 1. 1. 1. 1. 1.]\n"
     ]
    }
   ],
   "source": [
    "_num_random_action_selection = 4096\n",
    "_horizon = 15\n",
    "_state_dim = env.observation_space.shape[0]\n",
    "_action_dim = env.action_space.shape[0]\n",
    "_num_random_action_selection = 4096\n",
    "_action_space_low = env.action_space.low\n",
    "_action_space_high = env.action_space.high\n",
    "print(\"_action_space_low:%s, _action_space_high:%s\" % (_action_space_low, _action_space_high))"
   ]
  },
  {
   "cell_type": "code",
   "execution_count": 5,
   "metadata": {},
   "outputs": [],
   "source": [
    "actions_sequences = tf.random_uniform([_num_random_action_selection, _horizon, _action_dim], \n",
    "                                      _action_space_low, _action_space_high, tf.float32)\n",
    "cost_actions_decision = []\n",
    "for i in range(_num_random_action_selection):\n",
    "    cost_actions_decision.append(tf.random_uniform([1], 0, 1, tf.float32))"
   ]
  },
  {
   "cell_type": "code",
   "execution_count": 6,
   "metadata": {},
   "outputs": [],
   "source": [
    "best_action_index = tf.argmin(tf.convert_to_tensor(cost_actions_decision))\n",
    "action_slice_size = [1,1,_action_dim]\n",
    "# can we use np.scalar's alternative in tf?\n",
    "best_action = tf.squeeze(tf.slice(actions_sequences, [best_action_index[0], 0, 0], action_slice_size))"
   ]
  },
  {
   "cell_type": "code",
   "execution_count": 7,
   "metadata": {},
   "outputs": [
    {
     "name": "stdout",
     "output_type": "stream",
     "text": [
      "[[0.20801282]\n",
      " [0.06758654]\n",
      " [0.7065959 ]\n",
      " ...\n",
      " [0.11783421]\n",
      " [0.9982842 ]\n",
      " [0.56390524]]\n",
      "[3567]\n",
      "[ 0.6527543   0.9014118  -0.6649816   0.02694607  0.20381331  0.8529477 ]\n"
     ]
    }
   ],
   "source": [
    "with tf.Session() as sess:\n",
    "    print(tf.convert_to_tensor(cost_actions_decision).eval())\n",
    "    print(best_action_index.eval())\n",
    "    print(best_action.eval())"
   ]
  },
  {
   "cell_type": "code",
   "execution_count": null,
   "metadata": {},
   "outputs": [],
   "source": []
  }
 ],
 "metadata": {
  "kernelspec": {
   "display_name": "Python 3",
   "language": "python",
   "name": "python3"
  },
  "language_info": {
   "codemirror_mode": {
    "name": "ipython",
    "version": 3
   },
   "file_extension": ".py",
   "mimetype": "text/x-python",
   "name": "python",
   "nbconvert_exporter": "python",
   "pygments_lexer": "ipython3",
   "version": "3.6.7"
  }
 },
 "nbformat": 4,
 "nbformat_minor": 2
}
