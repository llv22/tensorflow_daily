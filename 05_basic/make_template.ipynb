{
 "cells": [
  {
   "cell_type": "markdown",
   "metadata": {},
   "source": [
    "# Tensorflow Template\n",
    "\n",
    "* Reference: https://www.tensorflow.org/versions/r1.11/api_docs/python/tf/make_template"
   ]
  },
  {
   "cell_type": "code",
   "execution_count": 1,
   "metadata": {},
   "outputs": [
    {
     "name": "stderr",
     "output_type": "stream",
     "text": [
      "/home/dluser1/miniconda3/lib/python3.6/site-packages/h5py/__init__.py:36: FutureWarning: Conversion of the second argument of issubdtype from `float` to `np.floating` is deprecated. In future, it will be treated as `np.float64 == np.dtype(float).type`.\n",
      "  from ._conv import register_converters as _register_converters\n"
     ]
    },
    {
     "data": {
      "text/plain": [
       "'1.11.0'"
      ]
     },
     "execution_count": 1,
     "metadata": {},
     "output_type": "execute_result"
    }
   ],
   "source": [
    "import tensorflow as tf\n",
    "tf.__version__"
   ]
  },
  {
   "cell_type": "code",
   "execution_count": 2,
   "metadata": {},
   "outputs": [
    {
     "name": "stdout",
     "output_type": "stream",
     "text": [
      "1.0 2.0\n",
      "1.0 2.0\n"
     ]
    }
   ],
   "source": [
    "input1 = tf.constant(1.0)\n",
    "input2 = tf.constant(2.0)\n",
    "\n",
    "def my_op(x, scalar_name):\n",
    "    var1 = tf.get_variable(scalar_name,\n",
    "                         shape=[],\n",
    "                         initializer=tf.constant_initializer(1))\n",
    "    return x * var1\n",
    "\n",
    "with tf.variable_scope('scope') as vs:\n",
    "    scale_by_y = tf.make_template('scale_by_y', my_op, scalar_name='y')\n",
    "    z = scale_by_y(input1)\n",
    "    w = scale_by_y(input2)\n",
    "    with tf.Session() as sess:\n",
    "        sess.run(tf.global_variables_initializer())\n",
    "        print(z.eval(), w.eval())\n",
    "\n",
    "# Creates a template that reuses the variables above.\n",
    "with tf.variable_scope(vs, reuse=True):\n",
    "    scale_by_y2 = tf.make_template('scale_by_y', my_op, scalar_name='y')\n",
    "    z2 = scale_by_y2(input1)\n",
    "    w2 = scale_by_y2(input2)\n",
    "    with tf.Session() as sess:\n",
    "        sess.run(tf.global_variables_initializer())\n",
    "        print(z2.eval(), w2.eval())"
   ]
  },
  {
   "cell_type": "code",
   "execution_count": null,
   "metadata": {},
   "outputs": [],
   "source": []
  }
 ],
 "metadata": {
  "kernelspec": {
   "display_name": "Python 3",
   "language": "python",
   "name": "python3"
  },
  "language_info": {
   "codemirror_mode": {
    "name": "ipython",
    "version": 3
   },
   "file_extension": ".py",
   "mimetype": "text/x-python",
   "name": "python",
   "nbconvert_exporter": "python",
   "pygments_lexer": "ipython3",
   "version": "3.6.6"
  }
 },
 "nbformat": 4,
 "nbformat_minor": 2
}
