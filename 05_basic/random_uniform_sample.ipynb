{
 "cells": [
  {
   "cell_type": "code",
   "execution_count": 1,
   "metadata": {},
   "outputs": [],
   "source": [
    "import tensorflow as tf"
   ]
  },
  {
   "cell_type": "code",
   "execution_count": 2,
   "metadata": {},
   "outputs": [],
   "source": [
    "from half_cheetah_env import HalfCheetahEnv\n",
    "\n",
    "env = HalfCheetahEnv()"
   ]
  },
  {
   "cell_type": "code",
   "execution_count": 3,
   "metadata": {},
   "outputs": [],
   "source": [
    "state = env.reset()"
   ]
  },
  {
   "cell_type": "code",
   "execution_count": 9,
   "metadata": {},
   "outputs": [
    {
     "name": "stdout",
     "output_type": "stream",
     "text": [
      "_action_space_low:[-1. -1. -1. -1. -1. -1.], _action_space_high:[1. 1. 1. 1. 1. 1.]\n"
     ]
    },
    {
     "data": {
      "text/plain": [
       "20"
      ]
     },
     "execution_count": 9,
     "metadata": {},
     "output_type": "execute_result"
    }
   ],
   "source": [
    "_num_random_action_selection = 4096\n",
    "_horizon = 15\n",
    "_state_dim = env.observation_space.shape[0]\n",
    "_action_dim = env.action_space.shape[0]\n",
    "_num_random_action_selection = 4096\n",
    "_action_space_low = env.action_space.low\n",
    "_action_space_high = env.action_space.high\n",
    "print(\"_action_space_low:%s, _action_space_high:%s\" % (_action_space_low, _action_space_high))\n",
    "_state_dim"
   ]
  },
  {
   "cell_type": "code",
   "execution_count": 5,
   "metadata": {},
   "outputs": [],
   "source": [
    "actions_sequences = tf.random_uniform([_num_random_action_selection, _horizon, _action_dim], \n",
    "                                      _action_space_low, _action_space_high, tf.float32)"
   ]
  },
  {
   "cell_type": "code",
   "execution_count": null,
   "metadata": {},
   "outputs": [],
   "source": [
    "for i in range(_num_random_action_selection):\n",
    "    for j in range(_horizon):\n",
    "        action_for_state_i = tf.squeeze(tf.slice(actions_sequences, [i,j,0], [1,1,_action_dim]))\n",
    "        print(action_for_state_i)"
   ]
  },
  {
   "cell_type": "code",
   "execution_count": null,
   "metadata": {},
   "outputs": [],
   "source": [
    "with tf.Session() as sess:\n",
    "    actions_sequences.eval()"
   ]
  },
  {
   "cell_type": "code",
   "execution_count": 8,
   "metadata": {},
   "outputs": [
    {
     "name": "stdout",
     "output_type": "stream",
     "text": [
      "(4096, 6)\n"
     ]
    }
   ],
   "source": [
    "with tf.Session() as sess:\n",
    "    for i in range(_horizon):\n",
    "        if i == 0:\n",
    "            print(actions_sequences[:,i].eval().shape)"
   ]
  },
  {
   "cell_type": "code",
   "execution_count": null,
   "metadata": {},
   "outputs": [],
   "source": [
    "def build_mlp(input_layer,\n",
    "              output_dim,\n",
    "              scope,\n",
    "              n_layers=1,\n",
    "              hidden_dim=500,\n",
    "              activation=tf.nn.relu,\n",
    "              output_activation=None,\n",
    "              reuse=False):\n",
    "    layer = input_layer\n",
    "    with tf.variable_scope(scope, reuse=reuse):\n",
    "        for _ in range(n_layers):\n",
    "            layer = tf.layers.dense(layer, hidden_dim, activation=activation)\n",
    "        layer = tf.layers.dense(layer, output_dim, activation=output_activation)\n",
    "    return layer"
   ]
  },
  {
   "cell_type": "code",
   "execution_count": null,
   "metadata": {},
   "outputs": [],
   "source": [
    "# reuse scope for variables\n",
    "normalized_state_action = tf.placeholder(tf.float32, shape=[None, _action_dim + _state_dim])\n",
    "normalized_next_state_diff_pred = build_mlp(normalized_state_action, _state_dim, scope=\"f_func\")\n",
    "v1 = build_mlp(normalized_state_action, _state_dim, scope=\"f_func\", reuse=True)\n",
    "tf.get_default_graph()"
   ]
  },
  {
   "cell_type": "code",
   "execution_count": null,
   "metadata": {},
   "outputs": [],
   "source": []
  }
 ],
 "metadata": {
  "kernelspec": {
   "display_name": "Python 3",
   "language": "python",
   "name": "python3"
  },
  "language_info": {
   "codemirror_mode": {
    "name": "ipython",
    "version": 3
   },
   "file_extension": ".py",
   "mimetype": "text/x-python",
   "name": "python",
   "nbconvert_exporter": "python",
   "pygments_lexer": "ipython3",
   "version": "3.6.7"
  }
 },
 "nbformat": 4,
 "nbformat_minor": 2
}
