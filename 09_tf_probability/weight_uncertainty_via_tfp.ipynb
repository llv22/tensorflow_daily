{
 "cells": [
  {
   "cell_type": "markdown",
   "id": "8f79790b",
   "metadata": {},
   "source": [
    "# Weight Uncertainty Using TensorFlow Probability\n",
    "\n",
    "Reference:\n",
    "* https://towardsdatascience.com/uncertainty-in-deep-learning-epistemic-uncertainty-and-bayes-by-backprop-e6353eeadebb"
   ]
  },
  {
   "cell_type": "code",
   "execution_count": 1,
   "id": "7f02e8bc",
   "metadata": {},
   "outputs": [],
   "source": [
    "import warnings\n",
    "warnings.filterwarnings('ignore')\n",
    "\n",
    "import tensorflow as tf\n",
    "from tensorflow.keras.layers import Dense\n",
    "from tensorflow.keras import Sequential\n",
    "\n",
    "import tensorflow_probability as tfp\n",
    "tfd = tfp.distributions\n",
    "tfpl = tfp.layers\n",
    "\n",
    "import numpy as np\n",
    "import matplotlib.pyplot as plt\n",
    "\n",
    "tf.random.set_seed(42)\n",
    "np.random.seed(42)"
   ]
  },
  {
   "cell_type": "code",
   "execution_count": 2,
   "id": "80504cef",
   "metadata": {},
   "outputs": [
    {
     "data": {
      "text/plain": [
       "<matplotlib.collections.PathCollection at 0x7fee23267ca0>"
      ]
     },
     "execution_count": 2,
     "metadata": {},
     "output_type": "execute_result"
    },
    {
     "data": {
      "image/png": "[encoded data removed]",
      "text/plain": [
       "<Figure size 936x720 with 1 Axes>"
      ]
     },
     "metadata": {
      "needs_background": "light"
     },
     "output_type": "display_data"
    }
   ],
   "source": [
    "x_100 = np.linspace(-1, 1, 100)\n",
    "y_100 = x_100 + np.random.randn(x_100.shape[0]) * 0.2\n",
    "\n",
    "plt.figure(figsize = (13, 10))\n",
    "plt.scatter(x_100, y_100, color = 'gray', s = 70, alpha = 0.3, marker = \"o\")"
   ]
  },
  {
   "cell_type": "code",
   "execution_count": 3,
   "id": "fc298072",
   "metadata": {},
   "outputs": [],
   "source": [
    "def prior(kernel_size, bias_size, dtype = None):\n",
    "    n = kernel_size + bias_size # num of params\n",
    "    return Sequential([\n",
    "       tfpl.DistributionLambda(\n",
    "           lambda t: tfd.Laplace(loc = tf.zeros(n), scale= tf.ones(n))\n",
    "       )                     \n",
    "  ])"
   ]
  },
  {
   "cell_type": "code",
   "execution_count": 4,
   "id": "e6d6682b",
   "metadata": {},
   "outputs": [],
   "source": [
    "def posterior(kernel_size, bias_size, dtype = None):\n",
    "    n = kernel_size + bias_size # num of params\n",
    "    return Sequential([\n",
    "        tfpl.VariableLayer(tfpl.IndependentNormal.params_size(n), dtype=dtype),\n",
    "        tfpl.IndependentNormal(n),\n",
    "    ])"
   ]
  },
  {
   "cell_type": "markdown",
   "id": "8600aede",
   "metadata": {},
   "source": [
    "## Equation of Minibatches & Re-Weighting the KL-Divergence\n",
    "\n",
    "$$\n",
    "\\mathcal{L}(\\phi|x)=\\frac{1}{M}D_{KL}(Q(\\Theta|\\phi)||P(\\Theta)) - \\frac{1}{\\text{BatchSize}} \\sum_{i=0}^{\\text{BatchSize}} log P((x_i, y_i)|\\Theta_i)\n",
    "$$"
   ]
  },
  {
   "cell_type": "code",
   "execution_count": null,
   "id": "97f3b098",
   "metadata": {},
   "outputs": [],
   "source": [
    "model_100 = Sequential([\n",
    "    tfpl.DenseVariational(input_shape = (1,),\n",
    "                          units = 1,\n",
    "                          make_prior_fn = prior,\n",
    "                          make_posterior_fn = posterior,\n",
    "                          kl_weight = 1 / x_100.shape[0])\n",
    "])\n",
    "model_100.compile(loss = 'mse', optimizer = tf.keras.optimizers.Adam(lr = 0.003))\n",
    "\"\"\"\n",
    "we haven't put a distribution on the output, all the uncertainties in the weights.\n",
    "So we can still use a normal deterministic loss-function\n",
    "\"\"\"\n",
    "\n",
    "model_100.summary()\n",
    "\n",
    "model_100.fit(x_100, y_100, epochs=1, verbose=0)\n",
    "model_100.evaluate(x_100, y_100)"
   ]
  },
  {
   "cell_type": "code",
   "execution_count": null,
   "id": "d9ae143c",
   "metadata": {},
   "outputs": [],
   "source": [
    "# Check mean, and variance of variational posterior and prior.\n",
    "dummy = np.array([[0.0324]])\n",
    "prior_protected = model_100.layers[0]._prior(dummy) \n",
    "posterior_protected = model_100.layers[0]._posterior(dummy)\n",
    "print('prior mean:', prior_protected.mean().numpy()) # [0. 0.]\n",
    "print('prior variance:', prior_protected.variance().numpy()) # [1.9999999 1.9999999]\n",
    "print('posterior mean:', posterior_protected.mean().numpy()) # [ 0.99621785 -0.02372155]\n",
    "print('posterior variance:', posterior_protected.variance().numpy()) # [0.03062892 0.0123959]"
   ]
  },
  {
   "cell_type": "code",
   "execution_count": null,
   "id": "e8c9c3b9",
   "metadata": {},
   "outputs": [],
   "source": [
    "ensemble_size = 5\n",
    "\n",
    "plt.figure(figsize=(12,9))\n",
    "plt.scatter(x_100, y_100, s = 70, alpha = 0.3, marker = \"o\", label = 'Data', color = 'gray')\n",
    "for _ in range(ensemble_size):\n",
    "    plt.plot(x_100, model_100(x_100), color='red', alpha=0.8)        \n",
    "plt.legend()\n",
    "plt.show()"
   ]
  },
  {
   "cell_type": "markdown",
   "id": "745974d1",
   "metadata": {},
   "source": [
    "# Weight Uncertainty in Non-Linear Regression"
   ]
  },
  {
   "cell_type": "code",
   "execution_count": null,
   "id": "9d09b2c7",
   "metadata": {},
   "outputs": [],
   "source": [
    "x = np.linspace(-5, 2, 400)\n",
    "y = 4 * x * np.cos(np.pi * np.sin(x)) + 1 + np.random.randn(x.shape[0]) * 0.5\n",
    "\n",
    "plt.figure(figsize = (13, 10))\n",
    "plt.scatter(x, y, color = 'gray', s = 70, alpha = 0.3, marker = \"o\", label = 'Data',\n",
    "           linewidth = 3)"
   ]
  },
  {
   "cell_type": "code",
   "execution_count": null,
   "id": "7058ce2c",
   "metadata": {},
   "outputs": [],
   "source": [
    "# Prior is not trainable\n",
    "def prior(kernel_size, bias_size, dtype = None):\n",
    "    n = kernel_size + bias_size # num of params\n",
    "    return Sequential([\n",
    "       tfpl.DistributionLambda(\n",
    "           lambda t: tfd.Laplace(loc = tf.zeros(n), scale= 2 * tf.ones(n))\n",
    "       )                     \n",
    "  ])\n",
    "\n",
    "def posterior(kernel_size, bias_size, dtype=None):\n",
    "    n = kernel_size + bias_size\n",
    "    return tf.keras.Sequential([\n",
    "      tfp.layers.VariableLayer(2 * n, dtype=dtype),\n",
    "      tfp.layers.DistributionLambda(lambda t: tfd.Independent(\n",
    "\n",
    "          tfd.Normal(loc=t[..., :n],\n",
    "                     scale= 1e-5 + 0.003 * tf.nn.softplus(t[..., n:])),\n",
    "          reinterpreted_batch_ndims=1)),\n",
    "    ])"
   ]
  },
  {
   "cell_type": "code",
   "execution_count": null,
   "id": "a3c4e921",
   "metadata": {},
   "outputs": [],
   "source": [
    "model_non_linear = Sequential([\n",
    "    \n",
    "    tfpl.DenseVariational(input_shape = (1,),\n",
    "                          units = 128,\n",
    "                          make_prior_fn = prior,\n",
    "                          make_posterior_fn = posterior,\n",
    "                          kl_weight = 1 / x.shape[0], activation = tf.nn.silu),\n",
    "    \n",
    "    tfpl.DenseVariational(units = 64,\n",
    "                          make_prior_fn = prior,\n",
    "                          make_posterior_fn = posterior,\n",
    "                          kl_weight = 1 / x.shape[0], activation = tf.nn.silu),\n",
    "    tfpl.DenseVariational(units = 1,\n",
    "                          make_prior_fn = prior,\n",
    "                          make_posterior_fn = posterior,\n",
    "                          kl_weight = 1 / x.shape[0])\n",
    "])\n",
    "\n",
    "model_non_linear.compile(loss = tf.keras.losses.MeanSquaredError(), optimizer = tf.keras.optimizers.Adam(lr = 0.003))\n",
    "model_non_linear.summary()"
   ]
  },
  {
   "cell_type": "code",
   "execution_count": null,
   "id": "f4e64438",
   "metadata": {},
   "outputs": [],
   "source": [
    "model_non_linear.fit(x, y, epochs=2000, verbose=False)\n",
    "\n",
    "ensemble_size = 5\n",
    "\n",
    "plt.figure(figsize=(12,9))\n",
    "plt.scatter(x, y, s = 70, alpha = 0.3, marker = \"o\", label = 'Data', color = 'gray')\n",
    "for _ in range(ensemble_size):\n",
    "    plt.plot(x, model_non_linear(x), color='red', alpha=0.8)        \n",
    "plt.legend()\n",
    "plt.show()"
   ]
  },
  {
   "cell_type": "code",
   "execution_count": null,
   "id": "1a92dbc3",
   "metadata": {},
   "outputs": [],
   "source": [
    "def posterior(kernel_size, bias_size, dtype = None):\n",
    "    n = kernel_size + bias_size\n",
    "    return Sequential([\n",
    "        tfpl.VariableLayer(tfpl.MultivariateNormalTriL.params_size(n), dtype = dtype),\n",
    "        tfpl.MultivariateNormalTriL(n)                        \n",
    "    ])"
   ]
  },
  {
   "cell_type": "code",
   "execution_count": null,
   "id": "0558788d",
   "metadata": {},
   "outputs": [],
   "source": []
  }
 ],
 "metadata": {
  "kernelspec": {
   "display_name": "Python 3",
   "language": "python",
   "name": "python3"
  },
  "language_info": {
   "codemirror_mode": {
    "name": "ipython",
    "version": 3
   },
   "file_extension": ".py",
   "mimetype": "text/x-python",
   "name": "python",
   "nbconvert_exporter": "python",
   "pygments_lexer": "ipython3",
   "version": "3.8.8"
  }
 },
 "nbformat": 4,
 "nbformat_minor": 5
}
