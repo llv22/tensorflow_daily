{
 "cells": [
  {
   "cell_type": "markdown",
   "metadata": {},
   "source": [
    "# SSGAN\n",
    "\n",
    "* Concept: Using generator's capacity of generating sample to improve performance of image classification, furthermore, to enhance generalization capacity of discriminator.\n",
    "* Discriminator/Classification Network\n",
    "  1. use image as input, classify real image into the first N classes, generated image into the last N+1 class.\n",
    "  2. loss includes:  \n",
    "     2.1 loss of supervised learning  \n",
    "     $$ \\mathcal{L}_{supervised} = -\\mathbb{E}_{x,y \\sim P_{data}(x,y)} log [p_{model}(y | x, y<n+1)] $$\n",
    "     2.2 loss of GAN discriminator  \n",
    "     $$ \\mathcal{L}_{GAN} = -\\left\\{ \\mathbb{E}_{x \\sim p_{data}(x)}log[1-p_{model}(y=n+1|x)] + \\mathbb{E}_{x \\sim Generator}log[1-p_{model}(y=n+1|x)] \\right\\} $$  \n",
    "* Tensorflow source code: https://github.com/gitlimlab/SSGAN-Tensorflow"
   ]
  },
  {
   "cell_type": "code",
   "execution_count": null,
   "metadata": {},
   "outputs": [],
   "source": []
  }
 ],
 "metadata": {
  "kernelspec": {
   "display_name": "Python 3",
   "language": "python",
   "name": "python3"
  },
  "language_info": {
   "codemirror_mode": {
    "name": "ipython",
    "version": 3
   },
   "file_extension": ".py",
   "mimetype": "text/x-python",
   "name": "python",
   "nbconvert_exporter": "python",
   "pygments_lexer": "ipython3",
   "version": "3.6.6"
  }
 },
 "nbformat": 4,
 "nbformat_minor": 2
}
