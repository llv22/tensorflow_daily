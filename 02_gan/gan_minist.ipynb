{
 "cells": [
  {
   "cell_type": "markdown",
   "metadata": {},
   "source": [
    "# Simple GAN\n",
    "\n",
    "* Ivan Goodfellow's paper: https://arxiv.org/pdf/1406.2661.pdf \n",
    "* Source code: https://github.com/PacktPublishing/Learning-Generative-Adversarial-Networks/ \n",
    "* Implementation for simple GAN via tensorflow: \n",
    "  1. book - https://github.com/PacktPublishing/Learning-Generative-Adversarial-Networks/blob/master/Chapter02/Code/simple-gan.ipynb \n",
    "  2. blog - https://wiseodd.github.io/techblog/2016/09/17/gan-tensorflow/ \n",
    "* GAN Implementation by numpy: https://towardsdatascience.com/only-numpy-implementing-gan-general-adversarial-networks-and-adam-optimizer-using-numpy-with-2a7e4e032021"
   ]
  },
  {
   "cell_type": "code",
   "execution_count": null,
   "metadata": {},
   "outputs": [],
   "source": [
    "import os\n",
    "import numpy as np\n",
    "import tensorflow as tf\n",
    "from tensorflow.contrib.layers import xavier_initializer\n",
    "from tensorflow.examples.tutorials.mnist import input_data\n",
    "\n",
    "import matplotlib.pyplot as plt\n",
    "import matplotlib.gridspec as gridspec\n",
    "%matplotlib inline"
   ]
  },
  {
   "cell_type": "markdown",
   "metadata": {},
   "source": [
    "# Generator"
   ]
  },
  {
   "cell_type": "code",
   "execution_count": null,
   "metadata": {},
   "outputs": [],
   "source": [
    "# origional ebook's xavier_init_manual\n",
    "def xavier_init_manual(size):\n",
    "    input_dim = size[0]\n",
    "    xavier_variance = 1. / tf.sqrt(input_dim/2.)\n",
    "    return tf.random_normal(shape=size, stddev=xavier_variance)\n",
    "\n",
    "def plot(samples):\n",
    "    fig = plt.figure(figsize=(4, 4))\n",
    "    gs = gridspec.GridSpec(4, 4)\n",
    "    gs.update(wspace=0.05, hspace=0.05)\n",
    "\n",
    "    for i, sample in enumerate(samples):\n",
    "        ax = plt.subplot(gs[i])\n",
    "        plt.axis('off')\n",
    "        ax.set_xticklabels([])\n",
    "        ax.set_yticklabels([])\n",
    "        ax.set_aspect('equal')\n",
    "        plt.imshow(sample.reshape(28, 28), cmap='Greys_r')\n",
    "\n",
    "    return fig"
   ]
  },
  {
   "cell_type": "code",
   "execution_count": null,
   "metadata": {},
   "outputs": [],
   "source": [
    "# generate random noise for generator\n",
    "Z = tf.placeholder(tf.float32, shape=[None, 100], name='Z')\n",
    "\n",
    "# Generator parameters setting\n",
    "xavier_init = xavier_initializer()\n",
    "G_W1 = tf.Variable(xavier_init([100, 128]), name='G_W1')\n",
    "G_b1 = tf.Variable(tf.zeros(shape=[128]), name='G_b1')\n",
    "G_W2 = tf.Variable(xavier_init([128, 784]), name='G_W2')\n",
    "G_b2 = tf.Variable(tf.zeros(shape=[784]), name='G_b2')\n",
    "theta_G = [G_W1, G_W2, G_b1, G_b2]"
   ]
  },
  {
   "cell_type": "code",
   "execution_count": null,
   "metadata": {},
   "outputs": [],
   "source": [
    "# generator network\n",
    "def generator(z):\n",
    "    \"\"\"\n",
    "    Using prior z of G(z) to learn mapping between prior space and p(data) in [G_W1, G_b1, G_W2, G_b2].\n",
    "    Arguments:\n",
    "        z - random noise\n",
    "    Returns:\n",
    "        G_prob - probability of G(z)\n",
    "    \"\"\"\n",
    "    G_h1 = tf.nn.relu(tf.matmul(z, G_W1) + G_b1)\n",
    "    G_log_prob = tf.matmul(G_h1, G_W2) + G_b2\n",
    "    G_prob = tf.sigmoid(G_log_prob)\n",
    "    return G_prob"
   ]
  },
  {
   "cell_type": "markdown",
   "metadata": {},
   "source": [
    "# Discriminator"
   ]
  },
  {
   "cell_type": "code",
   "execution_count": null,
   "metadata": {},
   "outputs": [],
   "source": [
    "# prepare input setting of MNIST image via discrimator\n",
    "X = tf.placeholder(tf.float32, shape=[None, 784], name='X')\n",
    "\n",
    "# Discrimator parameters setting\n",
    "D_W1 = tf.Variable(xavier_init([784, 128]), name='D_W1')\n",
    "D_b1 = tf.Variable(tf.zeros([128]), name='D_b1')\n",
    "D_W2 = tf.Variable(xavier_init([128, 1]), name=\"D_W2\")\n",
    "D_b2 = tf.Variable(tf.zeros([1]), name='D_b2')\n",
    "theta_D = [D_W1, D_W2, D_b1, D_b2]"
   ]
  },
  {
   "cell_type": "code",
   "execution_count": null,
   "metadata": {},
   "outputs": [],
   "source": [
    "# discriminator network\n",
    "def discriminator(x):\n",
    "    \"\"\"\n",
    "    Using D(x) to to judge if it's true data or false generated data.\n",
    "    Arguments:\n",
    "        x - input\n",
    "    Returns:\n",
    "        D_prob - probability of D(x)\n",
    "        D_logit - logit of D(x)\n",
    "    \"\"\"\n",
    "    D_h1 = tf.nn.relu(tf.matmul(x, D_W1) + D_b1)\n",
    "    D_logit = tf.matmul(D_h1, D_W2) + D_b2\n",
    "    D_prob = tf.sigmoid(D_logit)\n",
    "    return D_prob, D_logit"
   ]
  },
  {
   "cell_type": "markdown",
   "metadata": {},
   "source": [
    "# Loss"
   ]
  },
  {
   "cell_type": "code",
   "execution_count": null,
   "metadata": {},
   "outputs": [],
   "source": [
    "D_real, D_logit_real = discriminator(X)\n",
    "G_sample = generator(Z)\n",
    "D_fake, G_logit_fake = discriminator(G_sample)\n",
    "\n",
    "# GAN's loss function\n",
    "D_loss = -tf.reduce_mean(tf.log(D_real) + tf.log(1. - D_fake))\n",
    "G_loss = -tf.reduce_mean(tf.log(D_fake))\n",
    "\n",
    "# Only update D(X)'s parameters, var_list=theta_D\n",
    "D_solver = tf.train.AdamOptimizer().minimize(D_loss, var_list=theta_D)\n",
    "# Only update G(X)'s parameters, var_list=theta_G\n",
    "G_solver = tf.train.AdamOptimizer().minimize(G_loss, var_list=theta_G)"
   ]
  },
  {
   "cell_type": "code",
   "execution_count": null,
   "metadata": {},
   "outputs": [],
   "source": [
    "def sample_Z(m, n):\n",
    "    \"\"\"\n",
    "    sample distribution of Z, uniform prior for G(Z)\n",
    "    \"\"\"\n",
    "    return np.random.uniform(-1., 1., size=[m, n])"
   ]
  },
  {
   "cell_type": "code",
   "execution_count": null,
   "metadata": {},
   "outputs": [],
   "source": [
    "mnist = input_data.read_data_sets('MNIST/', one_hot=True)\n",
    "\n",
    "if not os.path.exists('output/'):\n",
    "    os.makedirs('output/')\n",
    "\n",
    "batch_size = 128\n",
    "Z_dim = 100\n",
    "i = 0\n",
    "with tf.Session() as sess:\n",
    "    sess.run(tf.global_variables_initializer())\n",
    "    for itr in range(1000000):\n",
    "        if itr % 1000 == 0:\n",
    "            samples = sess.run(G_sample, feed_dict={Z: sample_Z(16, Z_dim)})\n",
    "            fig = plot(samples)\n",
    "            plt.savefig('output/{}.png'.format(str(i).zfill(3)), bbox_inches='tight')\n",
    "            i += 1\n",
    "            plt.close(fig)\n",
    "\n",
    "        X_mb, _ = mnist.train.next_batch(batch_size)\n",
    "        _, D_loss_curr = sess.run([D_solver, D_loss], feed_dict={X: X_mb, Z: sample_Z(batch_size, Z_dim)})\n",
    "        _, G_loss_curr = sess.run([G_solver, G_loss], feed_dict={Z: sample_Z(batch_size, Z_dim)})\n",
    "\n",
    "        if itr % 1000 == 0:\n",
    "            print('Iter: {}'.format(itr))\n",
    "            print('D_loss: {:.4}'.format(D_loss_curr))\n",
    "            print('G_loss: {:.4}'.format(G_loss_curr))\n",
    "            print()"
   ]
  },
  {
   "cell_type": "code",
   "execution_count": null,
   "metadata": {},
   "outputs": [],
   "source": []
  }
 ],
 "metadata": {
  "kernelspec": {
   "display_name": "Python 3",
   "language": "python",
   "name": "python3"
  },
  "language_info": {
   "codemirror_mode": {
    "name": "ipython",
    "version": 3
   },
   "file_extension": ".py",
   "mimetype": "text/x-python",
   "name": "python",
   "nbconvert_exporter": "python",
   "pygments_lexer": "ipython3",
   "version": "3.6.6"
  }
 },
 "nbformat": 4,
 "nbformat_minor": 2
}
