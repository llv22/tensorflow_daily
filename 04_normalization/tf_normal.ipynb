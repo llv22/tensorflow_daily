{
 "cells": [
  {
   "cell_type": "code",
   "execution_count": 1,
   "metadata": {},
   "outputs": [],
   "source": [
    "import tensorflow as tf\n",
    "import numpy as np"
   ]
  },
  {
   "cell_type": "code",
   "execution_count": 2,
   "metadata": {},
   "outputs": [],
   "source": [
    "# using tf to normalize\n",
    "size = 100\n",
    "adv_n = np.random.rand(100)  "
   ]
  },
  {
   "cell_type": "markdown",
   "metadata": {},
   "source": [
    "# Option 1"
   ]
  },
  {
   "cell_type": "code",
   "execution_count": 3,
   "metadata": {
    "scrolled": true
   },
   "outputs": [
    {
     "name": "stdout",
     "output_type": "stream",
     "text": [
      "mean, std = [0.5095996078236118, 0.3170967481657766]\n"
     ]
    }
   ],
   "source": [
    "def stddev(v, mean):\n",
    "#     adv_std = tf.sqrt(tf.reduce_mean(tf.square(v - mean)))\n",
    "    adv_std = tf.sqrt(tf.reduce_mean(tf.squared_difference(v, mean)))\n",
    "    return adv_std\n",
    "\n",
    "adv_mean = tf.reduce_mean(adv_n)\n",
    "adv_std = stddev(adv_n, adv_mean)\n",
    "\n",
    "with tf.Session() as sess:\n",
    "    print(\"mean, std = %s\" % (sess.run([adv_mean, adv_std])))"
   ]
  },
  {
   "cell_type": "code",
   "execution_count": 4,
   "metadata": {},
   "outputs": [
    {
     "name": "stdout",
     "output_type": "stream",
     "text": [
      "normalized mean, std = [-3.3889557826682906e-16, 1.0]\n"
     ]
    }
   ],
   "source": [
    "# after normalization to check gaussion\n",
    "adv_normal_n = (adv_n - adv_mean) / adv_std \n",
    "adv_normal_mean = tf.reduce_mean(adv_normal_n)\n",
    "adv_normal_std = stddev(adv_normal_n, adv_normal_mean)\n",
    "\n",
    "with tf.Session() as sess:\n",
    "    print(\"normalized mean, std = %s\" % (sess.run([adv_normal_mean, adv_normal_std])))"
   ]
  },
  {
   "cell_type": "markdown",
   "metadata": {},
   "source": [
    "# Option 2"
   ]
  },
  {
   "cell_type": "code",
   "execution_count": 5,
   "metadata": {},
   "outputs": [
    {
     "name": "stdout",
     "output_type": "stream",
     "text": [
      "mean, std = [0.5095996, 0.31709674]\n"
     ]
    }
   ],
   "source": [
    "adv_mean, adv_variance = tf.nn.moments(tf.constant(adv_n, dtype=tf.float32), axes=[0])\n",
    "adv_std = tf.sqrt(adv_variance)\n",
    "with tf.Session() as sess:\n",
    "    print(\"mean, std = %s\" % (sess.run([adv_mean, adv_std])))"
   ]
  },
  {
   "cell_type": "code",
   "execution_count": 6,
   "metadata": {},
   "outputs": [
    {
     "name": "stdout",
     "output_type": "stream",
     "text": [
      "normalized mean, std = [-6.318092e-08, 1.0]\n"
     ]
    }
   ],
   "source": [
    "# after normalization to check gaussion\n",
    "adv_normal_n = (adv_n - adv_mean) / adv_std \n",
    "adv_normal_mean = tf.reduce_mean(adv_normal_n)\n",
    "adv_normal_std = stddev(adv_normal_n, adv_normal_mean)\n",
    "\n",
    "with tf.Session() as sess:\n",
    "    print(\"normalized mean, std = %s\" % (sess.run([adv_normal_mean, adv_normal_std])))"
   ]
  },
  {
   "cell_type": "markdown",
   "metadata": {},
   "source": [
    "# Handle adv_std $\\approx$ 0"
   ]
  },
  {
   "cell_type": "code",
   "execution_count": 7,
   "metadata": {},
   "outputs": [],
   "source": [
    "# simulate adv_std is very small\n",
    "# adv_std = tf.constant(1e-8)"
   ]
  },
  {
   "cell_type": "code",
   "execution_count": 8,
   "metadata": {},
   "outputs": [
    {
     "name": "stdout",
     "output_type": "stream",
     "text": [
      "normalized mean, std = [-6.318092e-08, 1.0]\n"
     ]
    }
   ],
   "source": [
    "# after normalization to check gaussion\n",
    "adv_normal_n = tf.cond(adv_std < 1e-7, lambda: (adv_n - adv_mean), lambda: (adv_n - adv_mean) / adv_std)\n",
    "adv_normal_mean = tf.reduce_mean(adv_normal_n)\n",
    "adv_normal_std = stddev(adv_normal_n, adv_normal_mean)\n",
    "\n",
    "with tf.Session() as sess:\n",
    "    print(\"normalized mean, std = %s\" % (sess.run([adv_normal_mean, adv_normal_std])))"
   ]
  },
  {
   "cell_type": "code",
   "execution_count": null,
   "metadata": {},
   "outputs": [],
   "source": []
  }
 ],
 "metadata": {
  "kernelspec": {
   "display_name": "Python 3",
   "language": "python",
   "name": "python3"
  },
  "language_info": {
   "codemirror_mode": {
    "name": "ipython",
    "version": 3
   },
   "file_extension": ".py",
   "mimetype": "text/x-python",
   "name": "python",
   "nbconvert_exporter": "python",
   "pygments_lexer": "ipython3",
   "version": "3.6.6"
  }
 },
 "nbformat": 4,
 "nbformat_minor": 2
}
