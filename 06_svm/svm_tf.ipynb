{
 "cells": [
  {
   "cell_type": "markdown",
   "metadata": {},
   "source": [
    "# SVM via Tensorflow\n",
    "\n",
    "Reference:\n",
    "* http://www.cnblogs.com/jerrylead/archive/2011/03/18/1988419.html\n",
    "* https://www.cnblogs.com/vipyoumay/p/7560061.html"
   ]
  },
  {
   "cell_type": "markdown",
   "metadata": {},
   "source": [
    "## 1. Theory\n",
    "\n",
    "Given $(X_i, y_i), y_i=+1/-1,$ we try to maximize \n",
    "$$ \\gamma = \\frac{|W^T \\cdot X + b|}{||W||}$$\n",
    "With restriction\n",
    "$$ \n",
    "\\begin{cases}\n",
    "    W^T \\cdot X_i + b \\geq +1, & \\text{if } y_i=1\\\\ \n",
    "    W^T \\cdot X_i + b \\leq -1, & \\text{if } y_i=-1\n",
    "\\end{cases}\n",
    "$$\n",
    "\n",
    "### 1.1 Equation Formalization\n",
    "Using mathmetic refactoration, we get our **SVM algorithm goal formalized** as follow:\n",
    "$$\n",
    "\\begin{equation}\n",
    "\\max_{W,b} \\frac{2}{||W||}, \\\\\n",
    "\\text{ s.t. } y_i(W^T \\cdot X_i + b) \\geq 1, i = 1,2,...,m\n",
    "\\end{equation}\n",
    "$$\n",
    "\n",
    "Futhermore, $||w|| > 0$, we can equally use:\n",
    "$$\n",
    "\\begin{equation}\n",
    "\\min_{W,b} \\frac{||W||^2}{2}, \\\\\n",
    "\\text{ s.t. } y_i(W^T \\cdot X_i + b) \\geq 1, i = 1,2,...,m\n",
    "\\end{equation}\n",
    "$$\n",
    "\n",
    "\n",
    "### 1.2 Dual Problem\n",
    "$$ L(W, b, \\alpha) = \\frac{1}{2}||W||^2 + \\sum_{i=1}^{m} \\alpha_i [1-y_i(W^T \\cdot X_i + b)], \\text{   }\\alpha=(\\alpha_1;\\alpha_2;...;\\alpha_m)$$\n",
    "Make partial devative for W and b, get as follow:\n",
    "$$ W = \\sum_{i=1}^{m} \\alpha_i y_i x_i $$\n",
    "$$ 0 = \\sum_{i=1}^{m} \\alpha_i y_i $$\n",
    "\n",
    "Then get into $ L(W, b, \\alpha) $, we get SVM dual problem as follow:\n",
    "$$ \\max_{\\alpha} \\sum_{i=1}^{m} \\alpha_i - \\frac{1}{2} \\sum_{i=1}^m \\sum_{j=1}^m \\alpha_i \\alpha_j y_i y_j x_i^T x_j $$ \n",
    "$$ \\text{   s.t.} \\sum_{i=1}^m \\alpha_i y_i = 0, \\alpha_i \\geq 0, i=1,2,...,m$$\n",
    "\n",
    "Sovle wtih $\\alpha$, get W and b to get model:\n",
    "$$ f(x) = W^T \\cdot X + b = \\sum_{i=1}^m \\alpha_i y_i x_i^T X + b $$\n",
    "\n",
    "Satisfy **KKT (Karush-Kuhn-Tucker) condition** as follow:\n",
    "$$\n",
    "\\begin{cases}\n",
    "\\alpha_i \\geq 0; \\\\\n",
    "y_i f(x_i) - 1 \\geq 0; \\\\\n",
    "\\alpha_i [y_i f(x_i) - 1] = 0.\n",
    "\\end{cases}\n",
    "$$"
   ]
  },
  {
   "cell_type": "code",
   "execution_count": null,
   "metadata": {},
   "outputs": [],
   "source": []
  }
 ],
 "metadata": {
  "kernelspec": {
   "display_name": "Python 3",
   "language": "python",
   "name": "python3"
  },
  "language_info": {
   "codemirror_mode": {
    "name": "ipython",
    "version": 3
   },
   "file_extension": ".py",
   "mimetype": "text/x-python",
   "name": "python",
   "nbconvert_exporter": "python",
   "pygments_lexer": "ipython3",
   "version": "3.6.7"
  }
 },
 "nbformat": 4,
 "nbformat_minor": 2
}
