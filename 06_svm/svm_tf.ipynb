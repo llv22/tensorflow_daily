{
 "cells": [
  {
   "cell_type": "markdown",
   "metadata": {},
   "source": [
    "# SVM via Tensorflow\n",
    "\n",
    "Reference:\n",
    "* [SMO优化算法（Sequential minimal optimization)](http://www.cnblogs.com/jerrylead/archive/2011/03/18/1988419.html)\n",
    "* [SVM原理以及Tensorflow 实现SVM分类(附代码)](https://www.cnblogs.com/vipyoumay/p/7560061.html)\n",
    "* [Latex Symbols](https://artofproblemsolving.com/wiki/index.php/LaTeX:Symbols)"
   ]
  },
  {
   "cell_type": "markdown",
   "metadata": {},
   "source": [
    "## 1. Theory\n",
    "\n",
    "Given $(X_i, y_i), y_i=+1/-1,$ we try to maximize \n",
    "$$ \\gamma = \\frac{|W^T \\cdot X + b|}{||W||}$$\n",
    "With restriction\n",
    "$$ \n",
    "\\begin{cases}\n",
    "    W^T \\cdot X_i + b \\geq +1, & \\text{if } y_i=1\\\\ \n",
    "    W^T \\cdot X_i + b \\leq -1, & \\text{if } y_i=-1\n",
    "\\end{cases}\n",
    "$$"
   ]
  },
  {
   "cell_type": "markdown",
   "metadata": {},
   "source": [
    "### 1.1 Equation Formalization\n",
    "Using mathmetic refactoration, we get our **SVM algorithm goal formalized** as follow:\n",
    "$$\n",
    "\\begin{equation}\n",
    "\\max_{W,b} \\frac{2}{||W||}, \\\\\n",
    "\\text{ s.t. } y_i(W^T \\cdot X_i + b) \\geq 1, i = 1,2,...,m\n",
    "\\end{equation}\n",
    "$$\n",
    "\n",
    "Futhermore, $||w|| > 0$, we can equally use:\n",
    "$$\n",
    "\\begin{equation}\n",
    "\\min_{W,b} \\frac{||W||^2}{2}, \\\\\n",
    "\\text{ s.t. } y_i(W^T \\cdot X_i + b) \\geq 1, i = 1,2,...,m\n",
    "\\end{equation}\n",
    "$$"
   ]
  },
  {
   "cell_type": "markdown",
   "metadata": {},
   "source": [
    "### 1.2 Dual Problem\n",
    "$$ L(W, b, \\alpha) = \\frac{1}{2}||W||^2 + \\sum_{i=1}^{m} \\alpha_i [1-y_i(W^T \\cdot X_i + b)], \\text{   }\\alpha=(\\alpha_1;\\alpha_2;...;\\alpha_m)$$\n",
    "Make partial devative for W and b, get as follow:\n",
    "$$ W = \\sum_{i=1}^{m} \\alpha_i y_i x_i $$\n",
    "$$ 0 = \\sum_{i=1}^{m} \\alpha_i y_i $$\n",
    "\n",
    "Then get into $ L(W, b, \\alpha) $, we get SVM dual problem as follow:\n",
    "$$ \\max_{\\alpha} W(\\alpha) = \\sum_{i=1}^{m} \\alpha_i - \\frac{1}{2} \\sum_{i=1}^m \\sum_{j=1}^m \\alpha_i \\alpha_j y_i y_j x_i^T x_j $$ \n",
    "$$ \\text{   s.t.} \\sum_{i=1}^m \\alpha_i y_i = 0, 0 \\leq \\alpha_i \\leq C, i=1,2,...,m$$\n",
    "\n",
    "* **Algorithm**  \n",
    "Repeat till converge:\n",
    "    1. Select $\\alpha_i$ and $\\alpha_j$ to update next (using heuristic to make bigger progress)\n",
    "    2. Reoptimize $W(\\alpha)$ with respect to $\\alpha_i$ and $\\alpha_j$, while holding $\\alpha_k, (k \\not\\equiv i, j)$ fixed\n",
    "    \n",
    "* **Implementation**\n",
    "$$ \\alpha_1 y^{(1)} + \\alpha_2 y^{(2)} = - \\sum_{i=3}^m \\alpha_i y^{(i)} $$\n",
    "make $ \\alpha_1 y^{(1)} + \\alpha_2 y^{(2)} = \\zeta $, We analyze ($\\alpha_1, \\alpha_2$) as the following 2 cases:\n",
    "\n",
    "**Case 1**: $ y^{(1)} \\cdot y^{(2)} = -1 $, we have\n",
    "    <img src=\"svm_bound.png\" width=\"55%\"/>\n",
    "\n",
    "$ L = \\max(0, \\alpha_2 - \\alpha_1), H = \\min(C, C + \\alpha_2 - \\alpha_1) $\n",
    "\n",
    "**Case 2**: $ y^{(1)} \\cdot y^{(2)} = +1 $, we have\n",
    "\n",
    "$ L = \\max(0, \\alpha_2 + \\alpha_1 - C), H = \\min(C, \\alpha_2 + \\alpha_1) $\n",
    "\n",
    "Then we use $\\alpha_2$ to represent $\\alpha_1$:\n",
    "\n",
    "$ \\alpha_1 = (\\zeta - \\alpha_2 y^{(2)}) y^{(1)} $\n",
    "\n",
    "Put $ \\alpha_1 $ into $W(\\alpha)$, we get:\n",
    "\n",
    "$$ W(\\alpha_1, \\alpha_2, ..., \\alpha_m) = W((\\zeta - \\alpha_2 y^{(2)}) y^{(1)} ,\\alpha_2, ..., \\alpha_m)$$\n",
    "\n",
    "$W((\\zeta - \\alpha_2 y^{(2)}) y^{(1)} ,\\alpha_2, ..., \\alpha_m)$ is a kind of $a \\alpha_2^2 + b \\alpha_2 + c$, then use paritial deviation of $W(\\alpha)$ to get $\\alpha_2$, in symbol $\\alpha_2| \\frac{\\partial W}{\\partial \\alpha_2}$. considering $ L \\leq \\alpha_2 \\leq H$, we use $\\alpha_2^{new,unclipped}$ to represent $\\alpha_2| \\frac{\\partial W}{\\partial \\alpha_2}$, take case condition as follow:\n",
    "\n",
    "$$\n",
    "\\alpha_2^{new} =\n",
    "\\begin{cases}\n",
    "H, \\text{  if  } \\alpha_2^{new,unclipped} > H \\\\\n",
    "\\alpha_2^{new,unclipped}, \\text{  if  } L \\leq \\alpha_2^{new,unclipped} \\leq H \\\\\n",
    "L, \\text{  if  } \\alpha_2^{new,unclipped} < L \\\\\n",
    "\\end{cases}\n",
    "$$\n",
    "\n",
    "Sovle wtih $\\alpha$, get W and b to get model:\n",
    "$$ f(x) = W^T \\cdot X + b = \\sum_{i=1}^m \\alpha_i y_i x_i^T X + b $$\n",
    "\n",
    "Satisfy **KKT (Karush-Kuhn-Tucker) condition** as follow:\n",
    "$$\n",
    "\\begin{cases}\n",
    "\\alpha_i \\geq 0; \\\\\n",
    "y_i f(x_i) - 1 \\geq 0; \\\\\n",
    "\\alpha_i [y_i f(x_i) - 1] = 0.\n",
    "\\end{cases}\n",
    "$$"
   ]
  },
  {
   "cell_type": "markdown",
   "metadata": {},
   "source": [
    "### 1.3 Heursitic Search for Dual Problem\n",
    "\n",
    "[Platt 1988's SMO Paper](https://www.microsoft.com/en-us/research/publication/sequential-minimal-optimization-a-fast-algorithm-for-training-support-vector-machines/) use heurstic method to sovle Dual Problem.\n",
    "\n",
    "* **1. Original Problem Definition**\n",
    "$$ u = W \\cdot X - b $$\n",
    " 1. Original optimization problem:\n",
    "$$\n",
    "\\begin{equation}\n",
    "\\min_{W,b} \\frac{||W||^2}{2}, \\\\\n",
    "\\text{ s.t. } y_i(W^T \\cdot X_i - b) \\geq 1, i = 1,2,...,m\n",
    "\\end{equation}\n",
    "$$\n",
    "\n",
    " 2. Partial devation to get solution of original problem:\n",
    "$$ W = \\sum_{i=1}^N y_i \\alpha_i X_i, b = W X_k - y_k \\text{ for some } \\alpha_k > 0 $$\n",
    "\n",
    "* **Lagrangian conversion**\n",
    "$$ \n",
    "\\min_{\\alpha} \\Psi(\\alpha) = \\min_{\\alpha} \\frac{1}{2}\\sum_{i=1}^N \\sum_{j=1}^N y_i y_j (x_i \\cdot x_j) \\alpha_i \\alpha_j - \\sum_{i=1}^N \\alpha_i\n",
    "$$\n",
    "$$ \\forall i, \\alpha_i \\geq 0 $$\n",
    "$$ \\sum_{i=1}^N y_i \\alpha_i = 0 $$\n",
    "\n",
    "* **2. Modified SVM problem for non-Linear splitting with penalities**\n",
    "$$\n",
    "\\min_{W,b, \\xi} \\frac{1}{2}||W||^2 + C \\sum_{i=1}^N \\xi_i\n",
    "$$\n",
    "$$ \\text{   subject to } y_i(W X_i - b) \\geq 1 - \\xi_i, \\forall i $$\n",
    "$$ 0 \\leq \\alpha_i \\leq C, \\forall i $$\n",
    "\n",
    " If taking Kernel function into consideration, we can have $u$ as:\n",
    "$$\n",
    "\\nu = \\sum_{j=1}^N y_j \\alpha_j K(x_j, x) - b\n",
    "$$\n",
    "\n",
    "* **Lagrangian conversion for Modified SVM problem**\n",
    "$$ \n",
    "\\min_{\\alpha} \\Psi(\\alpha) = \\min_{\\alpha} \\frac{1}{2}\\sum_{i=1}^N \\sum_{j=1}^N y_i y_j K(x_i \\cdot x_j) \\alpha_i \\alpha_j - \\sum_{i=1}^N \\alpha_i\n",
    "$$\n",
    "$$ \\forall i, \\alpha_i \\geq 0 $$\n",
    "$$ \\sum_{i=1}^N y_i \\alpha_i = 0 $$\n",
    "\n",
    " **KKT condition**\n",
    "$$ \\alpha_i = 0 \\iff y_i \\nu_i \\geq 1 $$\n",
    "$$ 0 < \\alpha_i < C \\iff y_i \\nu_i = 1 $$\n",
    "$$ \\alpha_i = C \\iff y_i \\nu_i \\leq 1 $$"
   ]
  },
  {
   "cell_type": "markdown",
   "metadata": {},
   "source": [
    "### 1.4 b Value for Dual Problem\n",
    "\n",
    "* As $\\alpha_i >0$, we have $y_i f(x_i) = 1$, then such $(x_i, y_i)$ is a **supported vector**, make it as $(x_s, y_s)$.\n",
    "\n",
    "* For $\\forall (x_s, y_s)$, they have fit for $y_i f(x_i) = 1$, summed together\n",
    "$$ y_s (\\sum_{i \\in S} \\alpha_i y_i X_i^T X_s + b) = 1, \\text{   } S= \\{i|\\alpha_i > 0, i=1,2,...,m\\} $$\n",
    "\n",
    "* solve b value as follow:\n",
    "$$ b = \\frac{1}{|S|} \\sum_{s \\in S} (y_s - \\sum_{i \\in S} \\alpha_i y_i X_i^T X_s) $$"
   ]
  },
  {
   "cell_type": "markdown",
   "metadata": {},
   "source": [
    "## 2. Practise via tensorflow"
   ]
  },
  {
   "cell_type": "code",
   "execution_count": 1,
   "metadata": {},
   "outputs": [],
   "source": [
    "import matplotlib.pyplot as plt\n",
    "import numpy as np\n",
    "import tensorflow as tf\n",
    "from sklearn import datasets\n",
    "import matplotlib.pyplot as plt\n",
    "%matplotlib inline"
   ]
  },
  {
   "cell_type": "code",
   "execution_count": 2,
   "metadata": {},
   "outputs": [],
   "source": [
    "# load data\n",
    "iris = datasets.load_iris()\n",
    "x_vals = np.array([[x[0], x[3]] for x in iris.data])\n",
    "y_vals = np.array([1 if y == 0 else -1 for y in iris.target])"
   ]
  },
  {
   "cell_type": "code",
   "execution_count": 3,
   "metadata": {},
   "outputs": [],
   "source": [
    "from sklearn.model_selection import KFold\n",
    "\n",
    "kf = KFold(n_splits=2, random_state=42)\n",
    "for train_index, test_index in kf.split(x_vals, y_vals):\n",
    "    X_train, y_train, X_test, y_test = x_vals[train_index], y_vals[train_index], x_vals[test_index], y_vals[test_index]"
   ]
  },
  {
   "cell_type": "markdown",
   "metadata": {},
   "source": [
    "### Use W, b to estimate SVM boundary"
   ]
  },
  {
   "cell_type": "code",
   "execution_count": 4,
   "metadata": {},
   "outputs": [],
   "source": [
    "assert len(x_vals.shape) == 2 and len(y_vals.shape) == 1"
   ]
  },
  {
   "cell_type": "code",
   "execution_count": 5,
   "metadata": {},
   "outputs": [],
   "source": [
    "from tensorflow.contrib.layers import xavier_initializer\n",
    "from tensorflow.losses import mean_squared_error\n",
    "from tensorflow.train import AdamOptimizer\n",
    "\n",
    "tf.reset_default_graph()\n",
    "\n",
    "X_data = tf.placeholder(tf.float32, shape=[None, x_vals.shape[1]])\n",
    "y_target = tf.placeholder(tf.float32, shape=[None, 1])\n",
    "\n",
    "W = tf.get_variable(shape=[x_vals.shape[1], 1], name=\"W\", initializer=xavier_initializer())\n",
    "b = tf.get_variable(shape=[1, 1], name=\"b\", initializer=xavier_initializer())\n",
    "\n",
    "output = tf.matmul(X_data, W) - b\n",
    "l2_norm = mean_squared_error(output, y_target)"
   ]
  },
  {
   "cell_type": "markdown",
   "metadata": {},
   "source": [
    "$$ Loss = \\max(0, 1 - \\hat{y(i)} * y(i)) + \\alpha  ||X \\cdot W - b||^2 $$"
   ]
  },
  {
   "cell_type": "code",
   "execution_count": 6,
   "metadata": {},
   "outputs": [],
   "source": [
    "loss = tf.reduce_mean(tf.maximum(0., 1. - output * y_target)) + 0.01 * l2_norm\n",
    "optimizer = AdamOptimizer(0.01).minimize(loss)"
   ]
  },
  {
   "cell_type": "code",
   "execution_count": 7,
   "metadata": {},
   "outputs": [],
   "source": [
    "batch_size = 1024\n",
    "\n",
    "with tf.Session() as sess:\n",
    "    sess.run(tf.global_variables_initializer())\n",
    "    for i in range(20000):\n",
    "        rand_index = np.random.choice(len(X_train), size=batch_size)\n",
    "        rand_x = X_train[rand_index]\n",
    "        rand_y = np.transpose([y_train[rand_index]])\n",
    "        sess.run(optimizer, feed_dict={X_data: rand_x, y_target: rand_y})\n",
    "    [[a1], [a2]] = sess.run(W)\n",
    "    [[b]] = sess.run(b)"
   ]
  },
  {
   "cell_type": "markdown",
   "metadata": {},
   "source": [
    "### Draw Boundary"
   ]
  },
  {
   "cell_type": "code",
   "execution_count": 8,
   "metadata": {},
   "outputs": [
    {
     "data": {
      "text/plain": [
       "Text(0,0.5,'Sepal Length')"
      ]
     },
     "execution_count": 8,
     "metadata": {},
     "output_type": "execute_result"
    },
    {
     "data": {
      "image/png": "[encoded data removed]",
      "text/plain": [
       "<Figure size 432x288 with 1 Axes>"
      ]
     },
     "metadata": {},
     "output_type": "display_data"
    }
   ],
   "source": [
    "slope = -a2/a1\n",
    "y_intercept = b/a1\n",
    "best_fit = []\n",
    "\n",
    "x1_vals = [d[1] for d in x_vals]\n",
    "\n",
    "for i in x1_vals:\n",
    "    best_fit.append(slope*i+y_intercept)\n",
    "\n",
    "# Separate I. setosa\n",
    "setosa_x = [d[1] for i, d in enumerate(x_vals) if y_vals[i] == 1]\n",
    "setosa_y = [d[0] for i, d in enumerate(x_vals) if y_vals[i] == 1]\n",
    "not_setosa_x = [d[1] for i, d in enumerate(x_vals) if y_vals[i] == -1]\n",
    "not_setosa_y = [d[0] for i, d in enumerate(x_vals) if y_vals[i] == -1]\n",
    "\n",
    "plt.plot(setosa_x, setosa_y, 'o', label='I. setosa')\n",
    "plt.plot(not_setosa_x, not_setosa_y, 'x', label='Non-setosa')\n",
    "plt.plot(x1_vals, best_fit, 'r-', label='Linear Separator', linewidth=3)\n",
    "plt.ylim([0, 10])\n",
    "plt.legend(loc='lower right')\n",
    "plt.title('Sepal Length vs Pedal Width')\n",
    "plt.xlabel('Pedal Width')\n",
    "plt.ylabel('Sepal Length')"
   ]
  }
 ],
 "metadata": {
  "jupytext": {
   "formats": "ipynb,py:light",
   "text_representation": {
    "extension": ".py",
    "format_name": "light",
    "format_version": "1.3",
    "jupytext_version": "0.8.2"
   }
  },
  "kernelspec": {
   "display_name": "Python 3",
   "language": "python",
   "name": "python3"
  },
  "language_info": {
   "codemirror_mode": {
    "name": "ipython",
    "version": 3
   },
   "file_extension": ".py",
   "mimetype": "text/x-python",
   "name": "python",
   "nbconvert_exporter": "python",
   "pygments_lexer": "ipython3",
   "version": "3.6.7"
  }
 },
 "nbformat": 4,
 "nbformat_minor": 2
}
