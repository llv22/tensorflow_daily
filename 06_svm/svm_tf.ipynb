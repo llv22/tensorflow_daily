{
 "cells": [
  {
   "cell_type": "markdown",
   "metadata": {},
   "source": [
    "# SVM via Tensorflow"
   ]
  },
  {
   "cell_type": "markdown",
   "metadata": {},
   "source": [
    "## 1. Theory\n",
    "\n",
    "Given $(X_i, y_i), y_i=+1/-1,$ we try to maximize \n",
    "$$ \\gamma = \\frac{|W^T \\cdot X + b|}{||W||}$$\n",
    "With restriction\n",
    "$$ \n",
    "\\begin{cases}\n",
    "    W^T \\cdot X_i + b \\geq +1, & \\text{if } y_i=1\\\\ \n",
    "    W^T \\cdot X_i + b \\leq -1, & \\text{if } y_i=-1\n",
    "\\end{cases}\n",
    "$$\n",
    "\n",
    "### 1.1 Equation Formalization\n",
    "Using mathmetic refactoration, we get our **SVM algorithm goal formalized** as follow:\n",
    "$$\n",
    "\\begin{equation}\n",
    "\\max_{W,b} \\frac{2}{||W||}, \\\\\n",
    "\\text{ s.t. } y_i(W^T \\cdot X_i + b) \\geq 1, i = 1,2,...,m\n",
    "\\end{equation}\n",
    "$$\n",
    "\n",
    "Futhermore, $||w|| > 0$, we can equally use:\n",
    "$$\n",
    "\\begin{equation}\n",
    "\\min_{W,b} \\frac{||W||^2}{2}, \\\\\n",
    "\\text{ s.t. } y_i(W^T \\cdot X_i + b) \\geq 1, i = 1,2,...,m\n",
    "\\end{equation}\n",
    "$$\n",
    "\n",
    "\n",
    "### 1.2 Dual Problem\n"
   ]
  },
  {
   "cell_type": "code",
   "execution_count": null,
   "metadata": {},
   "outputs": [],
   "source": []
  }
 ],
 "metadata": {
  "kernelspec": {
   "display_name": "Python 3",
   "language": "python",
   "name": "python3"
  },
  "language_info": {
   "codemirror_mode": {
    "name": "ipython",
    "version": 3
   },
   "file_extension": ".py",
   "mimetype": "text/x-python",
   "name": "python",
   "nbconvert_exporter": "python",
   "pygments_lexer": "ipython3",
   "version": "3.6.6"
  }
 },
 "nbformat": 4,
 "nbformat_minor": 2
}
