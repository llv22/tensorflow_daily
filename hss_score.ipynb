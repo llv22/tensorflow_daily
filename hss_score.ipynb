{
 "cells": [
  {
   "cell_type": "markdown",
   "metadata": {},
   "source": [
    "## Mask to calculate HSS in tensorflow\n",
    "\n",
    "$$ f(pixel) =  \\begin{cases}\n",
    "    0,              & \\text{if } x < \\tau \\\\\n",
    "    1,              & \\text{otherwise}\n",
    "\\end{cases}, \\text{where } \\tau = 30  $$\n",
    "\n",
    "Adapt to paper's HSS defintion, refer to section 5.2 of http://papers.nips.cc/paper/7145-deep-learning-for-precipitation-nowcasting-a-benchmark-and-a-new-model\n",
    "\n",
    "$$ \\text{hss_tau30} = \\dfrac {TT * FF - FT * TF} {(TT + FT)*(FT + FF) + (TT + TF)*(TF + FF)} $$"
   ]
  },
  {
   "cell_type": "code",
   "execution_count": 1,
   "metadata": {},
   "outputs": [
    {
     "name": "stdout",
     "output_type": "stream",
     "text": [
      "WARNING:tensorflow:From /home/dluser1/miniconda3/lib/python3.8/site-packages/tensorflow/python/compat/v2_compat.py:96: disable_resource_variables (from tensorflow.python.ops.variable_scope) is deprecated and will be removed in a future version.\n",
      "Instructions for updating:\n",
      "non-resource variables are not supported in the long term\n"
     ]
    }
   ],
   "source": [
    "import numpy as np\n",
    "import tensorflow as tf\n",
    "import tensorflow.compat.v1 as tf\n",
    "tf.disable_v2_behavior()\n",
    "\n",
    "# global setting\n",
    "tau = 0.5\n",
    "N = 501\n",
    "M = 1"
   ]
  },
  {
   "cell_type": "code",
   "execution_count": 2,
   "metadata": {},
   "outputs": [
    {
     "name": "stdout",
     "output_type": "stream",
     "text": [
      "TT=23957, TF=53462, FT=53664, FF=119918\n",
      "hss_score_tau30=0.0001446566\n"
     ]
    }
   ],
   "source": [
    "# generate input sample\n",
    "y_pred = np.random.randn(M, N, N)\n",
    "y_true = np.random.randn(M, N, N)\n",
    "assert y_pred.shape == (M, N, N)\n",
    "assert y_true.shape == (M, N, N)\n",
    "y_pred_bool_mask = (y_pred > tau)\n",
    "y_true_bool_mask = (y_true > tau)\n",
    "\n",
    "TT = y_pred_bool_mask & y_true_bool_mask\n",
    "TF = y_pred_bool_mask & (~y_true_bool_mask)\n",
    "FT = (~y_pred_bool_mask) & y_true_bool_mask\n",
    "FF = (~y_pred_bool_mask) & (~y_true_bool_mask)\n",
    "TT_v = np.count_nonzero(TT)\n",
    "TF_v = np.count_nonzero(TF)\n",
    "FT_v = np.count_nonzero(FT)\n",
    "FF_v = np.count_nonzero(FF)\n",
    "print(\"TT=%d, TF=%d, FT=%s, FF=%d\" % (TT_v, TF_v, FT_v, FF_v))\n",
    "assert TT_v + TF_v + FT_v + FF_v == N * N\n",
    "hss_score_tau30 = float(TT_v * FF_v - FT_v * TF_v) / float((TT_v+FT_v)*(FT_v+FF_v)+(TT_v+TF_v)*(TF_v+FF_v))\n",
    "print(\"hss_score_tau30=%.10f\" % (hss_score_tau30))"
   ]
  },
  {
   "cell_type": "code",
   "execution_count": 3,
   "metadata": {},
   "outputs": [],
   "source": [
    "# tensorflow for simulation of hss_tau30\n",
    "tf_y_pred = tf.placeholder(dtype=tf.float32, shape=(None, N, N))\n",
    "tf_y_true = tf.placeholder(dtype=tf.float32, shape=(None, N, N))"
   ]
  },
  {
   "cell_type": "code",
   "execution_count": 4,
   "metadata": {},
   "outputs": [],
   "source": [
    "tau = 0.5\n",
    "\n",
    "def hss_tau30(y_true: tf.Tensor, y_pred: tf.Tensor):\n",
    "    \"\"\"\n",
    "    Using global variable tau to get value of TT, TF, FT, FF.\n",
    "    see http://www.cawcr.gov.au/projects/verification/?spm=5176.11409106.555.15.50b01e8bEruSg4 for Heidke skill score (Cohen's k) - HSS.\n",
    "    \"\"\"\n",
    "    y_pred_bool_mask = (y_pred >= tau)\n",
    "    y_true_bool_mask = (y_true >= tau)\n",
    "    TT = y_pred_bool_mask & y_true_bool_mask\n",
    "    TF = y_pred_bool_mask & (~y_true_bool_mask)\n",
    "    FT = (~y_pred_bool_mask) & y_true_bool_mask\n",
    "    FF = (~y_pred_bool_mask) & (~y_true_bool_mask)\n",
    "    TT_v = tf.count_nonzero(TT)\n",
    "    TF_v = tf.count_nonzero(TF)\n",
    "    FT_v = tf.count_nonzero(FT)\n",
    "    FF_v = tf.count_nonzero(FF)\n",
    "    return tf.cast(TT_v * FF_v - FT_v * TF_v, dtype=tf.float32) / tf.cast((TT_v+FT_v)*(FT_v+FF_v)+(TT_v+TF_v)*(TF_v+FF_v), dtype=tf.float32)"
   ]
  },
  {
   "cell_type": "code",
   "execution_count": 5,
   "metadata": {},
   "outputs": [],
   "source": [
    "tf_hss_tau30 = hss_tau30(tf_y_true, tf_y_pred)"
   ]
  },
  {
   "cell_type": "code",
   "execution_count": 6,
   "metadata": {},
   "outputs": [],
   "source": [
    "with tf.Session() as sess:\n",
    "    tf_hss_score_tau30_v = sess.run(tf_hss_tau30, feed_dict={tf_y_pred:y_pred, tf_y_true:y_true})\n",
    "    assert (tf_hss_score_tau30_v - hss_score_tau30) < 1e-5"
   ]
  },
  {
   "cell_type": "markdown",
   "metadata": {},
   "source": [
    "## Step Weight Function\n",
    "\n",
    "$$ w(\\text{y_true}) = \\begin{cases}\n",
    "    1,              & \\text{if y_true < 2 or y_true =255 } \\\\\n",
    "    2,              & \\text{if 2} \\leq \\text{ y_true } < 5 \\\\\n",
    "    5,              & \\text{if 5} \\leq \\text{ y_true } < 10 \\\\\n",
    "    10,              & \\text{if 10} \\leq \\text{ y_true } < 30 \\\\\n",
    "    30,              & \\text{if 30} \\leq \\text{ y_true } \\leq 80 \n",
    "\\end{cases} $$"
   ]
  },
  {
   "cell_type": "code",
   "execution_count": 7,
   "metadata": {},
   "outputs": [],
   "source": [
    "MAX_VALID_PIXEL_VALE = 80\n",
    "MISSING_PIXEL_VALUE = 255\n",
    "\n",
    "## Loss calculation\n",
    "def normal_y(y_val):\n",
    "    \"\"\"\n",
    "    recover value from the (0,1) to [0, 80] with 255 as missing value, now only return integer value in y_val\n",
    "    # MISSING_PIXEL_VALUE = 255\n",
    "    # MAX_VALID_PIXEL_VALE = 80    \n",
    "    \"\"\"\n",
    "    assert y_val.dtype == tf.float32\n",
    "    y_val = tf.cast(y_val, tf.int32)\n",
    "    y_val = tf.where(y_val > MAX_VALID_PIXEL_VALE, tf.fill(tf.shape(y_val), MISSING_PIXEL_VALUE), y_val)\n",
    "    # the value > 80 should now > 255, then using tf.clip_by_value\n",
    "    return y_val\n",
    "\n",
    "def b_mse(y_true, y_pred):\n",
    "    \"\"\"\n",
    "    B-MSE loss with step function\n",
    "    \"\"\"\n",
    "    y_pred = tf.cast(normal_y(y_pred), dtype=tf.float32)\n",
    "    N = tf.cast(tf.shape(y_true)[0], dtype=tf.float32)\n",
    "    value = tf.square(y_true - y_pred)\n",
    "    y_true_w1 = tf.cast(tf.logical_or(y_true < 2, y_true == 255), dtype=tf.float32)\n",
    "    y_true_w2 = tf.cast(tf.logical_or(y_true >= 2, y_true < 5), dtype=tf.float32) * 2\n",
    "    y_true_w3 = tf.cast(tf.logical_or(y_true >= 5, y_true < 10), dtype=tf.float32) * 5\n",
    "    y_true_w4 = tf.cast(tf.logical_or(y_true >= 10, y_true < 30), dtype=tf.float32) * 10\n",
    "    y_true_w5 = tf.cast(tf.logical_or(y_true >= 30, y_true <= 80), dtype=tf.float32) * 30\n",
    "    weighted_value = value * y_true_w1 + value * y_true_w2 + value * y_true_w3 + value * y_true_w4 + value * y_true_w5\n",
    "    return tf.reduce_sum(weighted_value) / N\n",
    "\n",
    "def b_mae(y_true, y_pred):\n",
    "    \"\"\"\n",
    "    B-MAE loss with step function\n",
    "    \"\"\"\n",
    "    y_pred = tf.cast(normal_y(y_pred), dtype=tf.float32)\n",
    "    N = tf.cast(tf.shape(y_true)[0], dtype=tf.float32)\n",
    "    value = tf.abs(y_true - y_pred)\n",
    "    y_true_w1 = tf.cast(tf.logical_or(y_true < 2, y_true == 255), dtype=tf.float32)\n",
    "    y_true_w2 = tf.cast(tf.logical_or(y_true >= 2, y_true < 5), dtype=tf.float32) * 2\n",
    "    y_true_w3 = tf.cast(tf.logical_or(y_true >= 5, y_true < 10), dtype=tf.float32) * 5\n",
    "    y_true_w4 = tf.cast(tf.logical_or(y_true >= 10, y_true < 30), dtype=tf.float32) * 10\n",
    "    y_true_w5 = tf.cast(tf.logical_or(y_true >= 30, y_true <= 80), dtype=tf.float32) * 30\n",
    "    weighted_value = value * y_true_w1 + value * y_true_w2 + value * y_true_w3 + value * y_true_w4 + value * y_true_w5\n",
    "    return tf.reduce_sum(weighted_value) / N"
   ]
  },
  {
   "cell_type": "code",
   "execution_count": 8,
   "metadata": {},
   "outputs": [],
   "source": [
    "tf_b_mse = b_mse(tf_y_true, tf_y_pred)\n",
    "tf_b_mae = b_mae(tf_y_true, tf_y_pred)"
   ]
  },
  {
   "cell_type": "code",
   "execution_count": 9,
   "metadata": {},
   "outputs": [
    {
     "name": "stdout",
     "output_type": "stream",
     "text": [
      "b_mse(y_true, y_pred) = 17665694.00\n",
      "b_mae(y_true, y_pred) = 11522720.00\n"
     ]
    }
   ],
   "source": [
    "with tf.Session() as sess:\n",
    "    tf_b_mse_v, tf_b_mae_v = sess.run([tf_b_mse, tf_b_mae], feed_dict={tf_y_pred:y_pred, tf_y_true:y_true})\n",
    "    print(\"b_mse(y_true, y_pred) = %.2f\" % (tf_b_mse_v))\n",
    "    print(\"b_mae(y_true, y_pred) = %.2f\" % (tf_b_mae_v))"
   ]
  }
 ],
 "metadata": {
  "kernelspec": {
   "display_name": "Python 3",
   "language": "python",
   "name": "python3"
  },
  "language_info": {
   "codemirror_mode": {
    "name": "ipython",
    "version": 3
   },
   "file_extension": ".py",
   "mimetype": "text/x-python",
   "name": "python",
   "nbconvert_exporter": "python",
   "pygments_lexer": "ipython3",
   "version": "3.8.8"
  }
 },
 "nbformat": 4,
 "nbformat_minor": 4
}
