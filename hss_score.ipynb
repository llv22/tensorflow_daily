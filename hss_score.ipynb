{
 "cells": [
  {
   "cell_type": "markdown",
   "metadata": {},
   "source": [
    "## Mask to calculate HSS in tensorflow\n",
    "\n",
    "$$     f(pixel) =  \\begin{cases}\n",
    "    0,              & \\text{if } x < \\tau \\\\\n",
    "    1,              & \\text{otherwise}\n",
    "\\end{cases} $$\n",
    ", where $$ \\tau = 30 $$\n",
    "\n",
    "Adapt to paper's HSS defintion\n",
    "\n",
    "$$ \\text{hss_tau30} = \\dfrac {TT * FF - FT * TF} {(TT + FT)*(FT + FF) + (TT + TF)*(TF + FF)} $$"
   ]
  },
  {
   "cell_type": "code",
   "execution_count": 1,
   "metadata": {},
   "outputs": [],
   "source": [
    "import numpy as np\n",
    "import tensorflow as tf\n",
    "\n",
    "# global setting\n",
    "N = 501\n",
    "tau = 0.5"
   ]
  },
  {
   "cell_type": "code",
   "execution_count": 2,
   "metadata": {},
   "outputs": [],
   "source": [
    "# generate input sample\n",
    "y_pred = np.random.randn(N, N)\n",
    "y_true = np.random.randn(N, N)\n",
    "assert y_pred.shape == (N, N)\n",
    "assert y_true.shape == (N, N)\n",
    "y_pred_mask = (y_pred > tau).astype(np.uint8)\n",
    "y_true_mask = (y_true > tau).astype(np.uint8)"
   ]
  },
  {
   "cell_type": "code",
   "execution_count": 3,
   "metadata": {},
   "outputs": [],
   "source": [
    "# tensorflow for simulation of hss_tau30\n",
    "tf_y_pred = tf.placeholder(dtype=tf.float32, shape=(N, N))\n",
    "tf_y_true = tf.placeholder(dtype=tf.float32, shape=(N, N))"
   ]
  }
 ],
 "metadata": {
  "kernelspec": {
   "display_name": "Python 3",
   "language": "python",
   "name": "python3"
  },
  "language_info": {
   "codemirror_mode": {
    "name": "ipython",
    "version": 3
   },
   "file_extension": ".py",
   "mimetype": "text/x-python",
   "name": "python",
   "nbconvert_exporter": "python",
   "pygments_lexer": "ipython3",
   "version": "3.6.6"
  }
 },
 "nbformat": 4,
 "nbformat_minor": 2
}
