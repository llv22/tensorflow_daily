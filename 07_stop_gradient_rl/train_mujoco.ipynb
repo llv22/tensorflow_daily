{
 "cells": [
  {
   "cell_type": "code",
   "execution_count": 1,
   "metadata": {},
   "outputs": [],
   "source": [
    "import argparse\n",
    "import gym\n",
    "import logz\n",
    "import numpy as np\n",
    "import os\n",
    "import tensorflow as tf\n",
    "import time\n",
    "\n",
    "import nn\n",
    "from sac import SAC\n",
    "import utils\n",
    "\n",
    "from multiprocessing import Process"
   ]
  },
  {
   "cell_type": "code",
   "execution_count": 2,
   "metadata": {},
   "outputs": [],
   "source": [
    "def train_SAC(env_name, exp_name, seed, logdir, algorithm_set_params):\n",
    "    alpha = {\n",
    "        'Ant-v2': 0.1,\n",
    "        'HalfCheetah-v2': 0.2,\n",
    "        'Hopper-v2': 0.2,\n",
    "        'Humanoid-v2': 0.05,\n",
    "        'Walker2d-v2': 0.2,\n",
    "    }.get(env_name, 0.2)\n",
    "\n",
    "    algorithm_params = {\n",
    "        'alpha': alpha,\n",
    "        'batch_size': 256,\n",
    "        'discount': 0.99,\n",
    "        'learning_rate': 1e-3,\n",
    "        'reparameterize': False,\n",
    "        'tau': 0.01,\n",
    "        'epoch_length': 1000,\n",
    "        'n_epochs': 500,\n",
    "        'two_qf': False,\n",
    "    }\n",
    "    # override if key and value in algorithm_set_params isn't None\n",
    "    for key, value in algorithm_set_params.items():\n",
    "        if key and value and algorithm_params[key] != value:\n",
    "            algorithm_params[key] = value\n",
    "\n",
    "    sampler_params = {\n",
    "        'max_episode_length': 1000,\n",
    "        'prefill_steps': 1000,\n",
    "    }\n",
    "    replay_pool_params = {\n",
    "        'max_size': 1e6,\n",
    "    }\n",
    "\n",
    "    value_function_params = {\n",
    "        'hidden_layer_sizes': (128, 128),\n",
    "    }\n",
    "\n",
    "    q_function_params = {\n",
    "        'hidden_layer_sizes': (128, 128),\n",
    "    }\n",
    "\n",
    "    policy_params = {\n",
    "        'hidden_layer_sizes': (128, 128),\n",
    "    }\n",
    "\n",
    "    logz.configure_output_dir(logdir)\n",
    "    params = {\n",
    "        'exp_name': exp_name,\n",
    "        'env_name': env_name,\n",
    "        'algorithm_params': algorithm_params,\n",
    "        'sampler_params': sampler_params,\n",
    "        'replay_pool_params': replay_pool_params,\n",
    "        'value_function_params': value_function_params,\n",
    "        'q_function_params': q_function_params,\n",
    "        'policy_params': policy_params\n",
    "    }\n",
    "    logz.save_params(params)\n",
    "\n",
    "    env = gym.envs.make(env_name)\n",
    "    # Set random seeds\n",
    "    tf.set_random_seed(seed)\n",
    "    np.random.seed(seed)\n",
    "    env.seed(seed)\n",
    "\n",
    "    sampler = utils.SimpleSampler(**sampler_params)\n",
    "    replay_pool = utils.SimpleReplayPool(\n",
    "        observation_shape=env.observation_space.shape,\n",
    "        action_shape=env.action_space.shape,\n",
    "        **replay_pool_params)\n",
    "\n",
    "    q_function = nn.QFunction(name='q_function', **q_function_params)\n",
    "    if algorithm_params.get('two_qf', False):\n",
    "        q_function2 = nn.QFunction(name='q_function2', **q_function_params)\n",
    "    else:\n",
    "        q_function2 = None\n",
    "    value_function = nn.ValueFunction(\n",
    "        name='value_function', **value_function_params)\n",
    "    target_value_function = nn.ValueFunction(\n",
    "        name='target_value_function', **value_function_params)\n",
    "    policy = nn.GaussianPolicy(\n",
    "        action_dim=env.action_space.shape[0],\n",
    "        reparameterize=algorithm_params['reparameterize'],\n",
    "        **policy_params)\n",
    "\n",
    "    sampler.initialize(env, policy, replay_pool)\n",
    "\n",
    "    algorithm = SAC(**algorithm_params)\n",
    "\n",
    "    tf_config = tf.ConfigProto(inter_op_parallelism_threads=1, intra_op_parallelism_threads=1)\n",
    "    tf_config.gpu_options.allow_growth = True  # may need if using GPU\n",
    "    with tf.Session(config=tf_config):\n",
    "        algorithm.build(\n",
    "            env=env,\n",
    "            policy=policy,\n",
    "            q_function=q_function,\n",
    "            q_function2=q_function2,\n",
    "            value_function=value_function,\n",
    "            target_value_function=target_value_function)\n",
    "\n",
    "        for epoch in algorithm.train(sampler, n_epochs=algorithm_params.get('n_epochs', 1000)):\n",
    "            logz.log_tabular('Iteration', epoch)\n",
    "            for k, v in algorithm.get_statistics().items():\n",
    "                logz.log_tabular(k, v)\n",
    "            for k, v in replay_pool.get_statistics().items():\n",
    "                logz.log_tabular(k, v)\n",
    "            for k, v in sampler.get_statistics().items():\n",
    "                logz.log_tabular(k, v)\n",
    "            logz.dump_tabular()"
   ]
  },
  {
   "cell_type": "code",
   "execution_count": 3,
   "metadata": {},
   "outputs": [],
   "source": [
    "from pathlib import Path\n",
    "import shutil\n",
    "\n",
    "n_experiments = 1\n",
    "env_name='HalfCheetah-v2'\n",
    "exp_name='reinf'\n",
    "args_seed = 1\n",
    "logdir = os.path.join(Path().resolve(), 'data/', exp_name)\n",
    "\n",
    "if os.path.exists(logdir):\n",
    "    shutil.rmtree(logdir)"
   ]
  },
  {
   "cell_type": "code",
   "execution_count": 4,
   "metadata": {
    "scrolled": true
   },
   "outputs": [],
   "source": [
    "for e in range(n_experiments):\n",
    "    seed = args_seed + 10*e\n",
    "#     train_SAC(\n",
    "#         env_name=env_name,\n",
    "#         exp_name=exp_name,\n",
    "#         seed=seed,\n",
    "#         logdir=os.path.join(logdir, '%d' % seed),\n",
    "#         algorithm_set_params={\n",
    "#             'reparameterize': False,\n",
    "#         }\n",
    "#     )"
   ]
  },
  {
   "cell_type": "code",
   "execution_count": 5,
   "metadata": {},
   "outputs": [
    {
     "name": "stdout",
     "output_type": "stream",
     "text": [
      "\u001b[33mWARN: gym.spaces.Box autodetected dtype as <class 'numpy.float32'>. Please provide explicit dtype.\u001b[0m\n",
      "\u001b[33mWARN: gym.spaces.Box autodetected dtype as <class 'numpy.float32'>. Please provide explicit dtype.\u001b[0m\n",
      "finish __init__\n"
     ]
    }
   ],
   "source": [
    "alpha = {\n",
    "    'Ant-v2': 0.1,\n",
    "    'HalfCheetah-v2': 0.2,\n",
    "    'Hopper-v2': 0.2,\n",
    "    'Humanoid-v2': 0.05,\n",
    "    'Walker2d-v2': 0.2,\n",
    "}.get(env_name, 0.2)\n",
    "\n",
    "algorithm_params = {\n",
    "    'alpha': alpha,\n",
    "    'batch_size': 256,\n",
    "    'discount': 0.99,\n",
    "    'learning_rate': 1e-3,\n",
    "    'reparameterize': False,\n",
    "    'tau': 0.01,\n",
    "    'epoch_length': 1000,\n",
    "    'n_epochs': 500,\n",
    "    'two_qf': False,\n",
    "}\n",
    "    \n",
    "sampler_params = {\n",
    "    'max_episode_length': 1000,\n",
    "    'prefill_steps': 1000,\n",
    "}\n",
    "replay_pool_params = {\n",
    "    'max_size': 1e6,\n",
    "}\n",
    "\n",
    "value_function_params = {\n",
    "    'hidden_layer_sizes': (128, 128),\n",
    "}\n",
    "\n",
    "q_function_params = {\n",
    "    'hidden_layer_sizes': (128, 128),\n",
    "}\n",
    "\n",
    "policy_params = {\n",
    "    'hidden_layer_sizes': (128, 128),\n",
    "}\n",
    "\n",
    "params = {\n",
    "    'exp_name': exp_name,\n",
    "    'env_name': env_name,\n",
    "    'algorithm_params': algorithm_params,\n",
    "    'sampler_params': sampler_params,\n",
    "    'replay_pool_params': replay_pool_params,\n",
    "    'value_function_params': value_function_params,\n",
    "    'q_function_params': q_function_params,\n",
    "    'policy_params': policy_params\n",
    "}\n",
    "# logz.save_params(params)\n",
    "\n",
    "env = gym.envs.make(env_name)\n",
    "# Set random seeds\n",
    "tf.set_random_seed(seed)\n",
    "np.random.seed(seed)\n",
    "env.seed(seed)\n",
    "\n",
    "sampler = utils.SimpleSampler(**sampler_params)\n",
    "replay_pool = utils.SimpleReplayPool(\n",
    "    observation_shape=env.observation_space.shape,\n",
    "    action_shape=env.action_space.shape,\n",
    "    **replay_pool_params)\n",
    "\n",
    "q_function = nn.QFunction(name='q_function', **q_function_params)\n",
    "if algorithm_params.get('two_qf', False):\n",
    "    q_function2 = nn.QFunction(name='q_function2', **q_function_params)\n",
    "else:\n",
    "    q_function2 = None\n",
    "value_function = nn.ValueFunction(\n",
    "    name='value_function', **value_function_params)\n",
    "target_value_function = nn.ValueFunction(\n",
    "    name='target_value_function', **value_function_params)\n",
    "policy = nn.GaussianPolicy(\n",
    "    action_dim=env.action_space.shape[0],\n",
    "    reparameterize=algorithm_params['reparameterize'],\n",
    "    **policy_params)"
   ]
  },
  {
   "cell_type": "code",
   "execution_count": 6,
   "metadata": {},
   "outputs": [],
   "source": [
    "observation_dim = env.observation_space.shape[0]\n",
    "action_dim = env.action_space.shape[0]\n",
    "\n",
    "_observations_ph = tf.placeholder(\n",
    "    tf.float32,\n",
    "    shape=(None, observation_dim),\n",
    "    name='observation',\n",
    ")\n",
    "_next_observations_ph = tf.placeholder(\n",
    "    tf.float32,\n",
    "    shape=(None, observation_dim),\n",
    "    name='next_observation',\n",
    ")\n",
    "_actions_ph = tf.placeholder(\n",
    "    tf.float32,\n",
    "    shape=(None, action_dim),\n",
    "    name='actions',\n",
    ")\n",
    "_rewards_ph = tf.placeholder(\n",
    "    tf.float32,\n",
    "    shape=(None, ),\n",
    "    name='rewards',\n",
    ")\n",
    "_terminals_ph = tf.placeholder(\n",
    "    tf.float32,\n",
    "    shape=(None, ),\n",
    "    name='terminals',\n",
    ")"
   ]
  },
  {
   "cell_type": "code",
   "execution_count": 7,
   "metadata": {},
   "outputs": [
    {
     "data": {
      "text/plain": [
       "<tf.Tensor 'observation:0' shape=(?, 17) dtype=float32>"
      ]
     },
     "execution_count": 7,
     "metadata": {},
     "output_type": "execute_result"
    }
   ],
   "source": [
    "_observations_ph"
   ]
  },
  {
   "cell_type": "code",
   "execution_count": 8,
   "metadata": {},
   "outputs": [
    {
     "data": {
      "text/plain": [
       "<tf.Tensor 'actions:0' shape=(?, 6) dtype=float32>"
      ]
     },
     "execution_count": 8,
     "metadata": {},
     "output_type": "execute_result"
    }
   ],
   "source": [
    "_actions_ph"
   ]
  },
  {
   "cell_type": "code",
   "execution_count": 9,
   "metadata": {},
   "outputs": [
    {
     "name": "stdout",
     "output_type": "stream",
     "text": [
      "network construct, input_shape: [TensorShape([Dimension(None), Dimension(17)]), TensorShape([Dimension(None), Dimension(6)])]\n",
      ">>>>>>>>>>>>>>>>>>>>>>>>>\n",
      "self.inputs: [<tf.Tensor 'q_function/observations:0' shape=(?, 17) dtype=float32>, <tf.Tensor 'q_function/actions:0' shape=(?, 6) dtype=float32>]\n",
      "self.outputs: [<tf.Tensor 'q_function/dense_2/BiasAdd:0' shape=(?, 1) dtype=float32>]\n",
      ">>>>>>>>>>>>>>>>>>>>>>>>>\n",
      "\n",
      "replaced with input and output\n",
      "in def Network.call()\n",
      "convert inputs to list: [<tf.Tensor 'observation:0' shape=(?, 17) dtype=float32>, <tf.Tensor 'actions:0' shape=(?, 6) dtype=float32>]\n",
      "tensor_map: {'113144525264': (<tf.Tensor 'observation:0' shape=(?, 17) dtype=float32>, None), '4476537264': (<tf.Tensor 'actions:0' shape=(?, 6) dtype=float32>, None)}\n",
      "output tensor_map: {'113144525264': (<tf.Tensor 'observation:0' shape=(?, 17) dtype=float32>, None), '4476537264': (<tf.Tensor 'actions:0' shape=(?, 6) dtype=float32>, None), '113160076816': (<tf.Tensor 'q_function/concatenate_1/concat:0' shape=(?, 23) dtype=float32>, None), '113160155712': (<tf.Tensor 'q_function/dense_3/Relu:0' shape=(?, 128) dtype=float32>, None), '113496479896': (<tf.Tensor 'q_function/dense_1_1/Relu:0' shape=(?, 128) dtype=float32>, None), '113496764544': (<tf.Tensor 'q_function/dense_2_1/BiasAdd:0' shape=(?, 1) dtype=float32>, None)}\n",
      "reference_output_tensors: [<tf.Tensor 'q_function/dense_2/BiasAdd:0' shape=(?, 1) dtype=float32>]\n",
      "output_tensors: [<tf.Tensor 'q_function/dense_2_1/BiasAdd:0' shape=(?, 1) dtype=float32>]\n",
      "self.outputs: [<tf.Tensor 'q_function/dense_2/BiasAdd:0' shape=(?, 1) dtype=float32>]\n",
      "str(id(self.outputs)): 113155602312\n",
      ">>>>>>>>>>>>>\n",
      "\n",
      "for checking of self.outputs in x: Tensor(\"q_function/dense_2/BiasAdd:0\", shape=(?, 1), dtype=float32)\n",
      "for checking of self.outputs in str(id(x)): 113496764544\n"
     ]
    },
    {
     "data": {
      "text/plain": [
       "<tf.Tensor 'Squeeze:0' shape=(?,) dtype=float32>"
      ]
     },
     "execution_count": 9,
     "metadata": {},
     "output_type": "execute_result"
    }
   ],
   "source": [
    "tf.squeeze(q_function([_observations_ph, _actions_ph]), axis=-1)"
   ]
  },
  {
   "cell_type": "code",
   "execution_count": 15,
   "metadata": {},
   "outputs": [
    {
     "name": "stdout",
     "output_type": "stream",
     "text": [
      "in def Network.call()\n",
      "convert inputs to list: [<tf.Tensor 'observation:0' shape=(?, 17) dtype=float32>]\n",
      "tensor_map: {'113144449232': (<tf.Tensor 'observation:0' shape=(?, 17) dtype=float32>, None)}\n",
      "output tensor_map: {'113144449232': (<tf.Tensor 'observation:0' shape=(?, 17) dtype=float32>, None), '113497048848': (<tf.Tensor 'value_function_2/dense_3/Relu:0' shape=(?, 128) dtype=float32>, None), '113497143896': (<tf.Tensor 'value_function_2/dense_4/Relu:0' shape=(?, 128) dtype=float32>, None), '113497417208': (<tf.Tensor 'value_function_2/dense_5/BiasAdd:0' shape=(?, 1) dtype=float32>, None)}\n",
      "reference_output_tensors: [<tf.Tensor 'value_function/dense_5/BiasAdd:0' shape=(?, 1) dtype=float32>]\n",
      "output_tensors: [<tf.Tensor 'value_function_2/dense_5/BiasAdd:0' shape=(?, 1) dtype=float32>]\n",
      "self.outputs: [<tf.Tensor 'value_function/dense_5/BiasAdd:0' shape=(?, 1) dtype=float32>]\n",
      "str(id(self.outputs)): 113155602824\n",
      ">>>>>>>>>>>>>\n",
      "\n",
      "for checking of self.outputs in x: Tensor(\"value_function/dense_5/BiasAdd:0\", shape=(?, 1), dtype=float32)\n",
      "for checking of self.outputs in str(id(x)): 113497417208\n"
     ]
    },
    {
     "data": {
      "text/plain": [
       "<tf.Tensor 'value_function_2/dense_5/BiasAdd:0' shape=(?, 1) dtype=float32>"
      ]
     },
     "execution_count": 15,
     "metadata": {},
     "output_type": "execute_result"
    }
   ],
   "source": [
    "value_function(_observations_ph)"
   ]
  },
  {
   "cell_type": "code",
   "execution_count": 11,
   "metadata": {},
   "outputs": [
    {
     "name": "stdout",
     "output_type": "stream",
     "text": [
      ">>>>>>>>>>>>>>>>>>>>>>>>>\n",
      "self.inputs: [<tf.Tensor 'gaussian_policy/observations:0' shape=(?, 17) dtype=float32>]\n",
      "self.outputs: [<tf.Tensor 'gaussian_policy/lambda/Tanh:0' shape=(?, 6) dtype=float32>, <tf.Tensor 'gaussian_policy/lambda/sub_1:0' shape=(?,) dtype=float32>]\n",
      ">>>>>>>>>>>>>>>>>>>>>>>>>\n",
      "\n",
      "in def Network.call()\n",
      "convert inputs to list: [<tf.Tensor 'observation:0' shape=(?, 17) dtype=float32>]\n",
      "tensor_map: {'113497710720': (<tf.Tensor 'observation:0' shape=(?, 17) dtype=float32>, None)}\n",
      "output tensor_map: {'113497710720': (<tf.Tensor 'observation:0' shape=(?, 17) dtype=float32>, None), '113497712400': (<tf.Tensor 'gaussian_policy/dense_6_1/Relu:0' shape=(?, 128) dtype=float32>, None), '113497819568': (<tf.Tensor 'gaussian_policy/dense_7_1/Relu:0' shape=(?, 128) dtype=float32>, None), '113498105392': (<tf.Tensor 'gaussian_policy/dense_8_1/BiasAdd:0' shape=(?, 12) dtype=float32>, None), '113500349720': (<tf.Tensor 'gaussian_policy/lambda_1/Tanh:0' shape=(?, 6) dtype=float32>, None), '113500349496': (<tf.Tensor 'gaussian_policy/lambda_1/sub_1:0' shape=(?,) dtype=float32>, None)}\n",
      "reference_output_tensors: [<tf.Tensor 'gaussian_policy/lambda/Tanh:0' shape=(?, 6) dtype=float32>, <tf.Tensor 'gaussian_policy/lambda/sub_1:0' shape=(?,) dtype=float32>]\n",
      "output_tensors: [<tf.Tensor 'gaussian_policy/lambda_1/Tanh:0' shape=(?, 6) dtype=float32>, <tf.Tensor 'gaussian_policy/lambda_1/sub_1:0' shape=(?,) dtype=float32>]\n",
      "self.outputs: [<tf.Tensor 'gaussian_policy/lambda/Tanh:0' shape=(?, 6) dtype=float32>, <tf.Tensor 'gaussian_policy/lambda/sub_1:0' shape=(?,) dtype=float32>]\n",
      "str(id(self.outputs)): 113500315208\n",
      ">>>>>>>>>>>>>\n",
      "\n",
      "for checking of self.outputs in x: Tensor(\"gaussian_policy/lambda/Tanh:0\", shape=(?, 6), dtype=float32)\n",
      "for checking of self.outputs in str(id(x)): 113500349720\n",
      "for checking of self.outputs in x: Tensor(\"gaussian_policy/lambda/sub_1:0\", shape=(?,), dtype=float32)\n",
      "for checking of self.outputs in str(id(x)): 113500349496\n"
     ]
    }
   ],
   "source": [
    "samples, log_probs = policy(_observations_ph)"
   ]
  },
  {
   "cell_type": "code",
   "execution_count": 12,
   "metadata": {},
   "outputs": [
    {
     "data": {
      "text/plain": [
       "<tf.Tensor 'gaussian_policy/lambda_1/Tanh:0' shape=(?, 6) dtype=float32>"
      ]
     },
     "execution_count": 12,
     "metadata": {},
     "output_type": "execute_result"
    }
   ],
   "source": [
    "samples"
   ]
  },
  {
   "cell_type": "code",
   "execution_count": 13,
   "metadata": {},
   "outputs": [
    {
     "data": {
      "text/plain": [
       "<tf.Tensor 'gaussian_policy/lambda_1/sub_1:0' shape=(?,) dtype=float32>"
      ]
     },
     "execution_count": 13,
     "metadata": {},
     "output_type": "execute_result"
    }
   ],
   "source": [
    "log_probs"
   ]
  },
  {
   "cell_type": "code",
   "execution_count": null,
   "metadata": {},
   "outputs": [],
   "source": []
  }
 ],
 "metadata": {
  "kernelspec": {
   "display_name": "Python 3",
   "language": "python",
   "name": "python3"
  },
  "language_info": {
   "codemirror_mode": {
    "name": "ipython",
    "version": 3
   },
   "file_extension": ".py",
   "mimetype": "text/x-python",
   "name": "python",
   "nbconvert_exporter": "python",
   "pygments_lexer": "ipython3",
   "version": "3.6.7"
  }
 },
 "nbformat": 4,
 "nbformat_minor": 2
}
