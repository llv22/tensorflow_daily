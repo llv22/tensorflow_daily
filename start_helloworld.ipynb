{
 "cells": [
  {
   "cell_type": "code",
   "execution_count": 1,
   "metadata": {},
   "outputs": [
    {
     "name": "stderr",
     "output_type": "stream",
     "text": [
      "/mnt/xvdb/jupyter/miniconda3/lib/python3.6/site-packages/h5py/__init__.py:36: FutureWarning: Conversion of the second argument of issubdtype from `float` to `np.floating` is deprecated. In future, it will be treated as `np.float64 == np.dtype(float).type`.\n",
      "  from ._conv import register_converters as _register_converters\n"
     ]
    },
    {
     "name": "stdout",
     "output_type": "stream",
     "text": [
      "tensorflow version:  1.6.0\n",
      "matplotlib version:  2.1.2\n",
      "numpy version:  1.15.0\n"
     ]
    }
   ],
   "source": [
    "import warnings\n",
    "warnings.filterwarnings(\"ignore\", message=\"numpy.dtype size changed\")\n",
    "\n",
    "import tensorflow as tf\n",
    "print(\"tensorflow version: \", tf.__version__)\n",
    "import matplotlib\n",
    "print(\"matplotlib version: \", matplotlib.__version__)\n",
    "import matplotlib.pyplot as plt\n",
    "%matplotlib inline\n",
    "import numpy as np\n",
    "print(\"numpy version: \", np.__version__)"
   ]
  },
  {
   "cell_type": "code",
   "execution_count": 2,
   "metadata": {},
   "outputs": [
    {
     "name": "stdout",
     "output_type": "stream",
     "text": [
      "3.0\n"
     ]
    }
   ],
   "source": [
    "v = tf.constant(3.0)\n",
    "with tf.Session() as sess:\n",
    "    print(sess.run(v))"
   ]
  },
  {
   "cell_type": "code",
   "execution_count": 3,
   "metadata": {},
   "outputs": [],
   "source": [
    "a = tf.random_normal([2, 20])\n",
    "with tf.Session() as sess:\n",
    "    x, y = sess.run(a)"
   ]
  },
  {
   "cell_type": "code",
   "execution_count": 4,
   "metadata": {},
   "outputs": [
    {
     "name": "stdout",
     "output_type": "stream",
     "text": [
      "[-0.8790204   1.2046703  -0.38429117  1.0492455   0.92495173  0.41095823\n",
      " -0.56520617  0.96394706  0.1029101   0.9283016  -0.76887035  1.1792707\n",
      " -0.3159924   1.3422832   0.81815636 -0.9833564  -0.42083812 -0.99617964\n",
      " -0.5024859   0.12588665]\n",
      "[ 0.4724699   0.07896863  0.19106327  0.22050607  1.310771    0.44891107\n",
      "  0.69494563  0.6768423  -1.166563    0.74892473 -0.12266804 -0.36384568\n",
      " -1.0241213  -1.1387286   0.26644173  0.08487832 -1.5409265   0.8524156\n",
      "  0.19443902  1.1907387 ]\n"
     ]
    }
   ],
   "source": [
    "# first vector 1 x 10\n",
    "print(x)\n",
    "# second vector 1 x 10\n",
    "print(y)"
   ]
  },
  {
   "cell_type": "code",
   "execution_count": 5,
   "metadata": {},
   "outputs": [
    {
     "data": {
      "image/png": "[encoded data removed]",
      "text/plain": [
       "<matplotlib.figure.Figure at 0x7f44024cca58>"
      ]
     },
     "metadata": {},
     "output_type": "display_data"
    }
   ],
   "source": [
    "plt.scatter(x, y)\n",
    "plt.show()"
   ]
  }
 ],
 "metadata": {
  "kernelspec": {
   "display_name": "Python 3",
   "language": "python",
   "name": "python3"
  },
  "language_info": {
   "codemirror_mode": {
    "name": "ipython",
    "version": 3
   },
   "file_extension": ".py",
   "mimetype": "text/x-python",
   "name": "python",
   "nbconvert_exporter": "python",
   "pygments_lexer": "ipython3",
   "version": "3.6.4"
  }
 },
 "nbformat": 4,
 "nbformat_minor": 2
}
